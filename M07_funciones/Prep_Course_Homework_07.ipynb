{
 "cells": [
  {
   "attachments": {},
   "cell_type": "markdown",
   "metadata": {},
   "source": [
    "## Funciones"
   ]
  },
  {
   "attachments": {},
   "cell_type": "markdown",
   "metadata": {},
   "source": [
    "1) Crear una función que reciba un número como parámetro y devuelva True si es primo y False si no lo es"
   ]
  },
  {
   "cell_type": "code",
   "execution_count": 4,
   "metadata": {},
   "outputs": [
    {
     "data": {
      "text/plain": [
       "False"
      ]
     },
     "execution_count": 4,
     "metadata": {},
     "output_type": "execute_result"
    }
   ],
   "source": [
    "def esPrimo(num):\n",
    "    primo = True\n",
    "    i=num-1\n",
    "\n",
    "    if num > 1:\n",
    "        while i > 1:\n",
    "            if num%i == 0:\n",
    "                primo = False\n",
    "            i -= 1\n",
    "\n",
    "        return primo\n",
    "    else:\n",
    "        return \"El numero debe ser mayor que 1\"\n",
    "\n",
    "esPrimo(4)\n"
   ]
  },
  {
   "attachments": {},
   "cell_type": "markdown",
   "metadata": {},
   "source": [
    "2) Utilizando la función del punto 1, realizar otra función que reciba de parámetro una lista de números y devuelva sólo aquellos que son primos en otra lista"
   ]
  },
  {
   "cell_type": "code",
   "execution_count": 19,
   "metadata": {},
   "outputs": [
    {
     "name": "stdout",
     "output_type": "stream",
     "text": [
      "[1, 2, 3, 5, 7, 11, 13, 17, 19, 23, 29]\n"
     ]
    }
   ],
   "source": [
    "def listaPrimos(lista):\n",
    "    if type(lista) == list:\n",
    "        listaPri = [i for i in lista if esPrimo(i)]\n",
    "        return listaPri\n",
    "    else:\n",
    "        return \"El elemento pasado como parametro debe ser una lista\"\n",
    "\n",
    "\n",
    "listaPruebas = [1,2,3,4,5,6,7,8,9,10,11,12,13,14,15,16,17,18,19,20,21,22,23,24,25,26,27,28,29,30]\n",
    "#listaPrimos([1,2,3,4,5,6,7,8,9,10,11,12,13,14,15,16,17,18,19,20,21,22,23,24,25,26,27,28,29,30])\n",
    "\n",
    "resultado = listaPrimos(listaPruebas)\n",
    "print(resultado)"
   ]
  },
  {
   "attachments": {},
   "cell_type": "markdown",
   "metadata": {},
   "source": [
    "3) Crear una función que al recibir una lista de números, devuelva el que más se repite y cuántas veces lo hace. Si hay más de un \"más repetido\", que devuelva cualquiera"
   ]
  },
  {
   "cell_type": "code",
   "execution_count": 36,
   "metadata": {},
   "outputs": [
    {
     "name": "stdout",
     "output_type": "stream",
     "text": [
      "El número 2 se repitio 3 veces\n",
      "El número 8 se repitio 3 veces\n"
     ]
    },
    {
     "data": {
      "text/plain": [
       "[2, 3]"
      ]
     },
     "execution_count": 36,
     "metadata": {},
     "output_type": "execute_result"
    }
   ],
   "source": [
    "def masRepetido(lista):\n",
    "    cont = 0\n",
    "    rep = [0,0]\n",
    "\n",
    "    lista.sort()\n",
    "\n",
    "    while cont < len(lista):\n",
    "        numero = lista[cont]\n",
    "        repeticiones = lista.count(numero)\n",
    "        cont += repeticiones\n",
    "\n",
    "        if repeticiones > rep[1]:\n",
    "            rep[0] = numero\n",
    "            rep[1] = repeticiones\n",
    "            cont = 0\n",
    "        elif repeticiones == rep[1]:\n",
    "            if numero != rep[0]:\n",
    "                rep.append(numero)\n",
    "                rep.append(repeticiones)\n",
    "\n",
    "    if len(rep) > 2:\n",
    "        pos = 0\n",
    "        while pos < len(rep):\n",
    "            print(\"El número\", rep[pos], \"se repitio\", rep[pos+1], \"veces\")\n",
    "            pos += 2\n",
    "        \n",
    "        return rep[:2]\n",
    "    else:\n",
    "        print(\"El número\", rep[0], \"se repitio\", rep[1], \"veces\")\n",
    "        \n",
    "        return rep\n",
    "\n",
    "lista2 = [8,3,2,6,4,7,1,5,9,2,8,6,4,3,1,7,9,5,8,2]\n",
    "\n",
    "masRepetido(lista2)"
   ]
  },
  {
   "attachments": {},
   "cell_type": "markdown",
   "metadata": {},
   "source": [
    "4) Crear una función que convierta entre grados Celsius, Farenheit y Kelvin<br>\n",
    "Fórmula 1\t: (°C × 9/5) + 32 = °F<br>\n",
    "Fórmula 2\t: °C + 273.15 = °K<br>\n",
    "Debe recibir 3 parámetros: el valor, la medida de orígen y la medida de destino\n"
   ]
  },
  {
   "cell_type": "code",
   "execution_count": 50,
   "metadata": {},
   "outputs": [
    {
     "name": "stdout",
     "output_type": "stream",
     "text": [
      "La conversión de grados kelvin a farenheit del valor 293.15 es igual a 68.0\n"
     ]
    },
    {
     "data": {
      "text/plain": [
       "68.0"
      ]
     },
     "execution_count": 50,
     "metadata": {},
     "output_type": "execute_result"
    }
   ],
   "source": [
    "def convertirGrados(valor, medidaOrigen, medidaDestino):\n",
    "    if medidaOrigen == \"celcius\" and medidaDestino == \"farenheit\":\n",
    "        conversion = (valor * (9/5)) + 32\n",
    "        print(\"La conversión de grados celcius a farenheit del valor\", valor, \"es igual a\", conversion)\n",
    "        return conversion\n",
    "    elif medidaOrigen == \"celcius\" and medidaDestino == \"kelvin\":\n",
    "        conversion = valor + 273.15\n",
    "        print(\"La conversión de grados celcius a kelvin del valor\", valor, \"es igual a\", conversion)\n",
    "        return conversion\n",
    "    elif medidaOrigen == \"farenheit\" and medidaDestino == \"celcius\":\n",
    "        conversion = (valor - 32) * 5/9\n",
    "        print(\"La conversión de grados farenheit a celcius del valor\", valor, \"es igual a\", conversion)\n",
    "        return conversion\n",
    "    elif medidaOrigen == \"farenheit\" and medidaDestino == \"kelvin\":\n",
    "        conversion = (valor - 32) * (5/9) + 273.15\n",
    "        print(\"La conversión de grados farenheit a kelvin del valor\", valor, \"es igual a\", conversion)\n",
    "        return conversion\n",
    "    elif medidaOrigen == \"kelvin\" and medidaDestino == \"celcius\":\n",
    "        conversion = valor - 273.15\n",
    "        print(\"La conversión de grados kelvin a celcius del valor\", valor, \"es igual a\", conversion)\n",
    "        return conversion\n",
    "    else:\n",
    "        conversion = ((valor - 273.15) * 9/5) + 32\n",
    "        print(\"La conversión de grados kelvin a farenheit del valor\", valor, \"es igual a\", conversion)\n",
    "        return conversion\n",
    "\n",
    "convertirGrados(293.15,\"kelvin\",\"farenheit\")"
   ]
  },
  {
   "attachments": {},
   "cell_type": "markdown",
   "metadata": {},
   "source": [
    "5) Iterando una lista con los tres valores posibles de temperatura que recibe la función del punto 5, hacer un print para cada combinación de los mismos:"
   ]
  },
  {
   "cell_type": "code",
   "execution_count": 52,
   "metadata": {},
   "outputs": [
    {
     "name": "stdout",
     "output_type": "stream",
     "text": [
      "La conversión de grados celcius a kelvin del valor 20 es igual a 293.15\n",
      "La conversión de grados celcius a kelvin del valor 30 es igual a 303.15\n",
      "La conversión de grados celcius a kelvin del valor 40 es igual a 313.15\n"
     ]
    }
   ],
   "source": [
    "temperaturas = [20,30,40]\n",
    "iterador = iter(temperaturas)\n",
    "\n",
    "for i in iterador:\n",
    "    convertirGrados(i,\"celcius\",\"kelvin\")"
   ]
  },
  {
   "attachments": {},
   "cell_type": "markdown",
   "metadata": {},
   "source": [
    "6) Armar una función que devuelva el factorial de un número. Tener en cuenta que el usuario puede equivocarse y enviar de parámetro un número no entero o negativo"
   ]
  },
  {
   "cell_type": "code",
   "execution_count": 63,
   "metadata": {},
   "outputs": [
    {
     "data": {
      "text/plain": [
       "120"
      ]
     },
     "execution_count": 63,
     "metadata": {},
     "output_type": "execute_result"
    }
   ],
   "source": [
    "def factorial(num):\n",
    "    if num <= 0:\n",
    "        return \"El numero debe ser mayor a 0\"\n",
    "    elif type(num) != int:\n",
    "        return \"El numero debe ser entero\"\n",
    "    else:\n",
    "        if num > 1:\n",
    "            num = num * factorial(num-1)\n",
    "        return num\n",
    "    \n",
    "factorial(5)"
   ]
  }
 ],
 "metadata": {
  "interpreter": {
   "hash": "c85384e4cb51c8b72350f3a8712cc8351fdc3955e32a27f9b60c6242ab125f01"
  },
  "kernelspec": {
   "display_name": "Python 3 (ipykernel)",
   "language": "python",
   "name": "python3"
  },
  "language_info": {
   "codemirror_mode": {
    "name": "ipython",
    "version": 3
   },
   "file_extension": ".py",
   "mimetype": "text/x-python",
   "name": "python",
   "nbconvert_exporter": "python",
   "pygments_lexer": "ipython3",
   "version": "3.12.1"
  }
 },
 "nbformat": 4,
 "nbformat_minor": 4
}
