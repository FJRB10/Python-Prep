{
 "cells": [
  {
   "cell_type": "code",
   "execution_count": 8,
   "metadata": {},
   "outputs": [
    {
     "name": "stdout",
     "output_type": "stream",
     "text": [
      "Ubicación en memoria de la variable: 2336818383104\n",
      "Variable sin entrar a la función [1, 2]\n",
      "Ubicación en memoria de la variable: 2336818383104\n",
      "Variable dentro de la función [1]\n",
      "Ubicación en memoria de la variable: 2336818383104\n",
      "Variable al salir de la función [1]\n"
     ]
    }
   ],
   "source": [
    "lista1 = [1,2]\n",
    "print(\"Ubicación en memoria de la variable:\", id(lista1))\n",
    "print(\"Variable sin entrar a la función\", lista1)\n",
    "\n",
    "\n",
    "def modificacion (entrada):\n",
    "    #entrada.append(30)\n",
    "    entrada.pop()\n",
    "    print(\"Ubicación en memoria de la variable:\", id(entrada))\n",
    "    print(\"Variable dentro de la función\", entrada)\n",
    "\n",
    "modificacion(lista1)\n",
    "\n",
    "print(\"Ubicación en memoria de la variable:\", id(lista1))\n",
    "print(\"Variable al salir de la función\", lista1)"
   ]
  }
 ],
 "metadata": {
  "kernelspec": {
   "display_name": "Python 3",
   "language": "python",
   "name": "python3"
  },
  "language_info": {
   "codemirror_mode": {
    "name": "ipython",
    "version": 3
   },
   "file_extension": ".py",
   "mimetype": "text/x-python",
   "name": "python",
   "nbconvert_exporter": "python",
   "pygments_lexer": "ipython3",
   "version": "3.12.1"
  }
 },
 "nbformat": 4,
 "nbformat_minor": 2
}
