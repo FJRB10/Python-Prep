{
 "cells": [
  {
   "cell_type": "markdown",
   "metadata": {},
   "source": [
    "1. Crear un script con el nombre \"Clase09_ej1.py\" Que reciba 3 parametros a elección, verificacion que sean exactamente esa cantidad, y muestre como salida los parametros recibidos."
   ]
  },
  {
   "cell_type": "code",
   "execution_count": 26,
   "metadata": {},
   "outputs": [],
   "source": [
    "import os\n",
    "\n",
    "prueba1 = open('Clase10_ej1.py','w')\n",
    "prueba1.write(\"import sys\\n\\n#print(len(sys.argv))\\n\\nif len(sys.argv) == 4:\\n\\tfor i in range(len(sys.argv)):\\n\\t\\tif i != 0:\\n\\t\\t\\tprint(f'EL PAREMTRO NUMERO {i} ES {sys.argv[i]}')\\nelif len(sys.argv) < 4:\\n\\tprint('HACEN FALTA PARAMETROS DE ENTRADA RECUERDE QUE SON 3')\\nelse:\\n\\tprint('SON MAS PARAMETROS DE LOS REQUERIDOS, RECUERDE QUE SON 3')\")\n",
    "prueba1.close()"
   ]
  },
  {
   "cell_type": "markdown",
   "metadata": {},
   "source": [
    "2. Crear un script con el nombre \"Clase09_ej2.py2\" que reciba como un valor de tempreratura en grados centigrados, un valor de humedad y por último si llovio (Con True o False). Y que cada vez que sea invocado, cargue en el archivo provisto \"Clase09_ej2.csv\" una marca de tiempo y esa información."
   ]
  },
  {
   "cell_type": "code",
   "execution_count": 59,
   "metadata": {},
   "outputs": [],
   "source": [
    "import os\n",
    "\n",
    "#os.remove('Clase10_ej2.py')\n",
    "\n",
    "#prueba2 = open('Clase10_ej2.py', 'x')\n",
    "\n",
    "prueba3 = open('Clase10_ej2.csv', 'w')\n",
    "prueba3.write(\"Fecha,Temperatura,Humedad,Lluvia\\n\")\n",
    "prueba3.close()"
   ]
  },
  {
   "cell_type": "code",
   "execution_count": 57,
   "metadata": {},
   "outputs": [
    {
     "name": "stdout",
     "output_type": "stream",
     "text": [
      "Temperatura: 12 \n",
      "Humedad: 3 \n",
      "Lluvia: True\n"
     ]
    }
   ],
   "source": [
    "from datetime import datetime\n",
    "\n",
    "fecha = datetime.now()\n",
    "temperatura = int(input(\"Digite el valor de temperatura. RECUERDE QUE ESTE VALOR DEBE SER EN GRADOS CENTIGRADOS(CELCIUS): \"))\n",
    "humedad = int(input(\"Digite el valor de la humedad: \"))\n",
    "lluvia = int(input(\"Digite 1 si llovio y 2 si no: \"))\n",
    "\n",
    "if lluvia < 1 or lluvia > 2:\n",
    "    raise ValueError(\"El valor digitado debe ser 1 o 2 dependiendo si llovio o no, correspondientemente\")\n",
    "else:\n",
    "    if lluvia == 1:\n",
    "        lluvia2 = True\n",
    "    elif lluvia == 2:\n",
    "        lluvia2 = False\n",
    "\n",
    "print(\"\\n\",\n",
    "      \"Temperatura:\", temperatura, \"\\n\",\n",
    "      \"Humedad:\", humedad, \"\\n\",\n",
    "      \"Lluvia:\", lluvia2,\"\\n\")\n",
    "\n",
    "prueba4 = open('Clase10_ej2.csv', 'a')\n",
    "prueba4.write(str(fecha) + ',')\n",
    "prueba4.write(str(temperatura) + ',')\n",
    "prueba4.write(str(humedad) + ',')\n",
    "prueba4.write(str(lluvia2))\n",
    "prueba4.write(\"\\n\")\n",
    "prueba4.close()"
   ]
  },
  {
   "cell_type": "markdown",
   "metadata": {},
   "source": [
    "3. Crear un archivo a partir de los datos presentes en el diccionario provisto. El cual debe contener en la primera fila el nombre de las claves y luego cada línea los elementos i-ésimos de las listas de valores contiguos y separados por coma ','. Este archivo debe llamarse \"Clase09_ej3.csv\"."
   ]
  },
  {
   "cell_type": "code",
   "execution_count": 60,
   "metadata": {},
   "outputs": [],
   "source": [
    "montañas = {'nombre':[  'Everest','K2','Kanchenjunga','Lhotse','Makalu',\n",
    "                        'Cho Oyu','Dhaulagiri','Manaslu','Nanga Parbat','Annapurna I'],\n",
    "            'orden':[1,2,3,4,5,6,7,8,9,10],\n",
    "            'cordillera':['Himalaya','Karakórum','Himalaya','Himalaya','Himalaya'\n",
    "                        ,'Himalaya','Himalaya','Himalaya','Karakórum','Himalaya'],\n",
    "            'pais': ['Nepal','Pakistán','Nepal','Nepal','Nepal','Nepal','Nepal','Nepal',\n",
    "                    'Pakistán','Nepal'],\n",
    "            'altura':[8849,8611,8586,8516,8485,8188,8167,8163,8125,8091]}"
   ]
  },
  {
   "cell_type": "code",
   "execution_count": 125,
   "metadata": {},
   "outputs": [],
   "source": [
    "import os\n",
    "\n",
    "archivo1 = open('Clase10_ej3.csv','w')\n",
    "archivo1.close()"
   ]
  },
  {
   "cell_type": "code",
   "execution_count": 126,
   "metadata": {},
   "outputs": [],
   "source": [
    "archivo2 = open('Clase10_ej3.csv','a')\n",
    "\n",
    "for i in montañas.keys():\n",
    "    archivo2.write(str(i) + ',')\n",
    "\n",
    "archivo2.write(\"\\n\")\n",
    "\n",
    "tuplaNombre = tuple(montañas['nombre'])\n",
    "tuplaOrden = tuple(montañas['orden'])\n",
    "tuplaCordillera = tuple(montañas['cordillera'])\n",
    "tuplaPais = tuple(montañas['pais'])\n",
    "tuplaAltura = tuple(montañas['altura'])\n",
    "\n",
    "lista3 = list(zip(tuplaNombre, tuplaOrden, tuplaCordillera, tuplaPais, tuplaAltura))\n",
    "#print(lista3[0][0])\n",
    "\n",
    "fila = 0\n",
    "columna = 0\n",
    "\n",
    "for i in lista3:\n",
    "    while columna < len(lista3[fila]):\n",
    "        archivo2.write(str(lista3[fila][columna]) + ',')\n",
    "        #print(lista3[fila][columna])\n",
    "        columna += 1\n",
    "\n",
    "    archivo2.write(\"\\n\")\n",
    "    columna = 0\n",
    "    fila += 1\n",
    "\n",
    "archivo2.close()"
   ]
  },
  {
   "cell_type": "markdown",
   "metadata": {},
   "source": [
    "4. Mostrar el tamaño en MB del archivo generado en el punto 3."
   ]
  },
  {
   "cell_type": "code",
   "execution_count": 130,
   "metadata": {},
   "outputs": [
    {
     "name": "stdout",
     "output_type": "stream",
     "text": [
      "El tamaño del archivo en Bytes es de 377 y en MegaBytes  es de 0.000377\n"
     ]
    }
   ],
   "source": [
    "import os\n",
    "\n",
    "tamañoBytes = os.path.getsize('Clase10_ej3.csv')\n",
    "tamañoMBytes = tamañoBytes / 1000000\n",
    "\n",
    "print(f'El tamaño del archivo en Bytes es de {tamañoBytes} y en MegaBytes  es de {tamañoMBytes}')"
   ]
  },
  {
   "cell_type": "markdown",
   "metadata": {},
   "source": [
    "5. Crear una carpeta llamada \"Clase09_montañas_altas\""
   ]
  },
  {
   "cell_type": "code",
   "execution_count": 131,
   "metadata": {},
   "outputs": [],
   "source": [
    "import os\n",
    "\n",
    "os.makedirs('Clase10_montañas_altas')"
   ]
  },
  {
   "cell_type": "markdown",
   "metadata": {},
   "source": [
    "6. Copiar el archivo Clase09_ej3.csv en la carpeta Clase09_montañas_altas usando la sentencia **os.system**"
   ]
  },
  {
   "cell_type": "code",
   "execution_count": 142,
   "metadata": {},
   "outputs": [
    {
     "data": {
      "text/plain": [
       "0"
      ]
     },
     "execution_count": 142,
     "metadata": {},
     "output_type": "execute_result"
    }
   ],
   "source": [
    "import os\n",
    "\n",
    "os.system('move Clase10_ej3.csv Clase10_montañas_altas')"
   ]
  },
  {
   "cell_type": "markdown",
   "metadata": {},
   "source": [
    "7. Listar el contenido de la carpeta09_motañas:altas."
   ]
  },
  {
   "cell_type": "code",
   "execution_count": 143,
   "metadata": {},
   "outputs": [
    {
     "data": {
      "text/plain": [
       "['Clase10_ej3.csv']"
      ]
     },
     "execution_count": 143,
     "metadata": {},
     "output_type": "execute_result"
    }
   ],
   "source": [
    "import os\n",
    "\n",
    "os.listdir('Clase10_montañas_altas')"
   ]
  }
 ],
 "metadata": {
  "kernelspec": {
   "display_name": "Python 3",
   "language": "python",
   "name": "python3"
  },
  "language_info": {
   "codemirror_mode": {
    "name": "ipython",
    "version": 3
   },
   "file_extension": ".py",
   "mimetype": "text/x-python",
   "name": "python",
   "nbconvert_exporter": "python",
   "pygments_lexer": "ipython3",
   "version": "3.12.1"
  }
 },
 "nbformat": 4,
 "nbformat_minor": 2
}
