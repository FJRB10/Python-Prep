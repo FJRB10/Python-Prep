{
 "cells": [
  {
   "attachments": {},
   "cell_type": "markdown",
   "metadata": {},
   "source": [
    "## Clases y Programación Orientada a Objetos"
   ]
  },
  {
   "attachments": {},
   "cell_type": "markdown",
   "metadata": {},
   "source": [
    "1) Crear la clase vehículo que contenga los atributos:<br>\n",
    "Color<br>\n",
    "Si es moto, auto, camioneta ó camión<br>\n",
    "Cilindrada del motor"
   ]
  },
  {
   "cell_type": "code",
   "execution_count": 31,
   "metadata": {},
   "outputs": [],
   "source": [
    "class Vehiculo:\n",
    "    def __init__(self,color,tipo,cilindrada):\n",
    "        self.color = color\n",
    "        self.tipo = tipo\n",
    "        self.cilindrada = cilindrada\n",
    "\n",
    "    def descripcion(self):\n",
    "        print(\"El vehiculo es un\", self.tipo, \"de color\", self.color, \"con una cilindrada de\", self.cilindrada)"
   ]
  },
  {
   "cell_type": "code",
   "execution_count": 32,
   "metadata": {},
   "outputs": [
    {
     "name": "stdout",
     "output_type": "stream",
     "text": [
      "El vehiculo es un carro de color amarillo con una cilindrada de 2000\n",
      "El vehiculo es un camión de color negro con una cilindrada de 5000\n",
      "El vehiculo es un moto de color rojo con una cilindrada de 1000\n"
     ]
    }
   ],
   "source": [
    "carro = Vehiculo(\"amarillo\", \"carro\", \"2000\")\n",
    "carro.descripcion()\n",
    "\n",
    "camion = Vehiculo(\"negro\", \"camión\", 5000)\n",
    "camion.descripcion()\n",
    "\n",
    "moto = Vehiculo(\"rojo\", \"moto\", 1000)\n",
    "moto.descripcion()"
   ]
  },
  {
   "attachments": {},
   "cell_type": "markdown",
   "metadata": {},
   "source": [
    "2) A la clase Vehiculo creada en el punto 1, agregar los siguientes métodos:<br>\n",
    "Acelerar<br>\n",
    "Frenar<br>\n",
    "Doblar<br>"
   ]
  },
  {
   "cell_type": "code",
   "execution_count": 34,
   "metadata": {},
   "outputs": [],
   "source": [
    "class Vehiculo:\n",
    "    def __init__(self,color,tipo,cilindrada):\n",
    "        self.color = color\n",
    "        self.tipo = tipo\n",
    "        self.cilindrada = cilindrada\n",
    "\n",
    "    def descripcion(self):\n",
    "        print(\"El vehiculo es un\", self.tipo, \"de color\", self.color, \"con una cilindrada de\", self.cilindrada, \"\\n\")\n",
    "\n",
    "    def acelerar(self, velocidad):\n",
    "        print(\"El\", self.tipo, \"acelera hasta\", velocidad, \"Km/h\")\n",
    "\n",
    "    def frenar(self, velocidad):\n",
    "        print(\"El\", self.tipo, \"frena hasta\", velocidad, \"Km/h\")\n",
    "\n",
    "    def doblar(self,direccion):\n",
    "        print(\"El\", self.tipo, \"dobla a la\", direccion)"
   ]
  },
  {
   "cell_type": "code",
   "execution_count": 35,
   "metadata": {},
   "outputs": [
    {
     "name": "stdout",
     "output_type": "stream",
     "text": [
      "El carro acelera hasta 200 Km/h\n",
      "El carro frena hasta 100 Km/h\n",
      "El carro dobla a la derecha\n"
     ]
    }
   ],
   "source": [
    "carro2 = Vehiculo(\"blanco\", \"carro\", \"3000\")\n",
    "\n",
    "carro2.acelerar(200)\n",
    "carro2.frenar(100)\n",
    "carro2.doblar(\"derecha\")"
   ]
  },
  {
   "attachments": {},
   "cell_type": "markdown",
   "metadata": {},
   "source": [
    "3) Instanciar 3 objetos de la clase vehículo y ejecutar sus métodos, probar luego el resultado"
   ]
  },
  {
   "cell_type": "code",
   "execution_count": 36,
   "metadata": {},
   "outputs": [
    {
     "name": "stdout",
     "output_type": "stream",
     "text": [
      "El vehiculo es un moto de color amarillo con una cilindrada de 1500 \n",
      "\n",
      "El moto acelera hasta 40 Km/h\n",
      "El moto frena hasta 10 Km/h\n",
      "El moto dobla a la izquierda\n",
      "El vehiculo es un bicicleta de color blanco con una cilindrada de 0 \n",
      "\n",
      "El bicicleta acelera hasta 25 Km/h\n",
      "El bicicleta frena hasta 10 Km/h\n",
      "El bicicleta dobla a la izquierda\n",
      "El vehiculo es un bus de color verde con una cilindrada de 3500 \n",
      "\n",
      "El bus acelera hasta 80 Km/h\n",
      "El bus frena hasta 30 Km/h\n",
      "El bus dobla a la derecha\n"
     ]
    }
   ],
   "source": [
    "motoTaxi = Vehiculo(\"amarillo\", \"moto\", \"1500\")\n",
    "bicicleta = Vehiculo(\"blanco\", \"bicicleta\", 0)\n",
    "buseta = Vehiculo(\"verde\", \"bus\", 3500)\n",
    "\n",
    "motoTaxi.descripcion()\n",
    "motoTaxi.acelerar(40)\n",
    "motoTaxi.frenar(10)\n",
    "motoTaxi.doblar(\"izquierda\")\n",
    "\n",
    "bicicleta.descripcion()\n",
    "bicicleta.acelerar(25)\n",
    "bicicleta.frenar(10)\n",
    "bicicleta.doblar(\"izquierda\")\n",
    "\n",
    "buseta.descripcion()\n",
    "buseta.acelerar(80)\n",
    "buseta.frenar(30)\n",
    "buseta.doblar(\"derecha\")"
   ]
  },
  {
   "attachments": {},
   "cell_type": "markdown",
   "metadata": {},
   "source": [
    "4) Agregar a la clase Vehiculo, un método que muestre su estado, es decir, a que velocidad se encuentra y su dirección. Y otro método que muestre color, tipo y cilindrada"
   ]
  },
  {
   "cell_type": "code",
   "execution_count": 37,
   "metadata": {},
   "outputs": [],
   "source": [
    "class Vehiculo:\n",
    "    def __init__(self,color,tipo,cilindrada):\n",
    "        self.color = color\n",
    "        self.tipo = tipo\n",
    "        self.cilindrada = cilindrada\n",
    "        self.velocidad = 0\n",
    "        self.direccion = \"norte\"\n",
    "\n",
    "    def descripcion(self):\n",
    "        print(\"El vehiculo es un\", self.tipo, \"de color\", self.color, \"con una cilindrada de\", self.cilindrada, \"\\n\")\n",
    "\n",
    "    def acelerar(self, aceleracion):\n",
    "        self.velocidad += aceleracion\n",
    "        print(\"El\", self.tipo, \"acelera hasta\", self.velocidad, \"Km/h\")\n",
    "\n",
    "    def frenar(self, freno):\n",
    "        self.velocidad -= freno\n",
    "        print(\"El\", self.tipo, \"frena hasta\", self.velocidad, \"Km/h\")\n",
    "\n",
    "    def doblar(self,orientacion):\n",
    "        self.direccion = orientacion\n",
    "        print(\"El\", self.tipo, \"dobla hacia el\", self.direccion)\n",
    "\n",
    "    def estado(self):\n",
    "        print(\"El vehiculo de tipo\", self.tipo, \"tiene una velocidad de\", self.velocidad, \"Km/h\", \"y va hacía el\", self.direccion)\n",
    "\n",
    "    def caracteristicas(self):\n",
    "        print(\"Tipo:\", self.tipo)\n",
    "        print(\"Color:\", self.color)\n",
    "        print(\"Cilindrada:\", self.cilindrada)"
   ]
  },
  {
   "cell_type": "code",
   "execution_count": 38,
   "metadata": {},
   "outputs": [
    {
     "name": "stdout",
     "output_type": "stream",
     "text": [
      "El vehiculo de tipo monopatin tiene una velocidad de 0 Km/h y va hacía el norte\n",
      "El monopatin acelera hasta 10 Km/h\n",
      "El monopatin dobla hacia el sur\n",
      "El vehiculo de tipo monopatin tiene una velocidad de 10 Km/h y va hacía el sur\n"
     ]
    }
   ],
   "source": [
    "monopatin = Vehiculo(\"rosado\", \"monopatin\", \"0\")\n",
    "\n",
    "monopatin.estado()\n",
    "monopatin.acelerar(10)\n",
    "monopatin.doblar(\"sur\")\n",
    "monopatin.estado()"
   ]
  },
  {
   "attachments": {},
   "cell_type": "markdown",
   "metadata": {},
   "source": [
    "5) Crear una clase que permita utilizar las funciones creadas en la práctica del módulo 7<br>\n",
    "Verificar Primo<br>\n",
    "Valor modal<br>\n",
    "Conversión grados<br>\n",
    "Factorial<br>"
   ]
  },
  {
   "cell_type": "code",
   "execution_count": 71,
   "metadata": {},
   "outputs": [],
   "source": [
    "class Pruebas():\n",
    "    def __init__(self):\n",
    "        pass\n",
    "\n",
    "    def verificarPrimo(self,num):\n",
    "        primo = True\n",
    "        i=num-1\n",
    "\n",
    "        if num > 1:\n",
    "            while i > 1:\n",
    "                if num%i == 0:\n",
    "                    primo = False\n",
    "                i -= 1\n",
    "\n",
    "            return primo\n",
    "        else:\n",
    "            return \"El numero debe ser mayor que 1\"\n",
    "        \n",
    "    def valorModal(self,lista):\n",
    "        cont = 0\n",
    "        rep = [0,0]\n",
    "\n",
    "        lista.sort()\n",
    "\n",
    "        while cont < len(lista):\n",
    "            numero = lista[cont]\n",
    "            repeticiones = lista.count(numero)\n",
    "            cont += repeticiones\n",
    "\n",
    "            if repeticiones > rep[1]:\n",
    "                rep[0] = numero\n",
    "                rep[1] = repeticiones\n",
    "                cont = 0\n",
    "            elif repeticiones == rep[1]:\n",
    "                if numero != rep[0]:\n",
    "                    rep.append(numero)\n",
    "                    rep.append(repeticiones)\n",
    "\n",
    "        if len(rep) > 2:\n",
    "            pos = 0\n",
    "            while pos < len(rep):\n",
    "                print(\"El número\", rep[pos], \"se repitio\", rep[pos+1], \"veces\")\n",
    "                pos += 2\n",
    "            \n",
    "            return rep[:2]\n",
    "        else:\n",
    "            print(\"El número\", rep[0], \"se repitio\", rep[1], \"veces\")\n",
    "            \n",
    "            return rep\n",
    "\n",
    "    def conversionGrados(self,valor,medidaOrigen,medidaDestino):\n",
    "        if medidaOrigen == \"celcius\" and medidaDestino == \"farenheit\":\n",
    "            conversion = (valor * (9/5)) + 32\n",
    "            print(\"La conversión de grados celcius a farenheit del valor\", valor, \"es igual a\", conversion)\n",
    "            return conversion\n",
    "        elif medidaOrigen == \"celcius\" and medidaDestino == \"kelvin\":\n",
    "            conversion = valor + 273.15\n",
    "            print(\"La conversión de grados celcius a kelvin del valor\", valor, \"es igual a\", conversion)\n",
    "            return conversion\n",
    "        elif medidaOrigen == \"farenheit\" and medidaDestino == \"celcius\":\n",
    "            conversion = (valor - 32) * 5/9\n",
    "            print(\"La conversión de grados farenheit a celcius del valor\", valor, \"es igual a\", conversion)\n",
    "            return conversion\n",
    "        elif medidaOrigen == \"farenheit\" and medidaDestino == \"kelvin\":\n",
    "            conversion = (valor - 32) * (5/9) + 273.15\n",
    "            print(\"La conversión de grados farenheit a kelvin del valor\", valor, \"es igual a\", conversion)\n",
    "            return conversion\n",
    "        elif medidaOrigen == \"kelvin\" and medidaDestino == \"celcius\":\n",
    "            conversion = valor - 273.15\n",
    "            print(\"La conversión de grados kelvin a celcius del valor\", valor, \"es igual a\", conversion)\n",
    "            return conversion\n",
    "        elif medidaOrigen == \"kelvin\" and medidaDestino == \"farenheit\":\n",
    "            conversion = ((valor - 273.15) * 9/5) + 32\n",
    "            print(\"La conversión de grados kelvin a farenheit del valor\", valor, \"es igual a\", conversion)\n",
    "            return conversion\n",
    "        else:\n",
    "            return \"Alguna de las medidas esta mal escrita recuerde que es 'celcius', 'farenheit' y 'kelvin'.\\nTodo en minuscula\"\n",
    "        \n",
    "    def factorial(self,num):\n",
    "        if num <= 0:\n",
    "            return \"El numero debe ser mayor a 0\"\n",
    "        elif type(num) != int:\n",
    "            return \"El numero debe ser entero\"\n",
    "        else:\n",
    "            if num > 1:\n",
    "                num = num * self.factorial(num-1)\n",
    "            return num"
   ]
  },
  {
   "attachments": {},
   "cell_type": "markdown",
   "metadata": {},
   "source": [
    "6) Probar las funciones incorporadas en la clase del punto 5"
   ]
  },
  {
   "cell_type": "code",
   "execution_count": 76,
   "metadata": {},
   "outputs": [
    {
     "name": "stdout",
     "output_type": "stream",
     "text": [
      "False\n",
      "El número 2 se repitio 3 veces\n",
      "El número 8 se repitio 3 veces\n",
      "[2, 3]\n",
      "La conversión de grados kelvin a celcius del valor 0 es igual a -273.15\n",
      "-273.15\n",
      "120\n"
     ]
    }
   ],
   "source": [
    "prueba = Pruebas()\n",
    "\n",
    "print(prueba.verificarPrimo(4))\n",
    "print(prueba.valorModal([8,3,2,6,4,7,1,5,9,2,8,6,4,3,1,7,9,5,8,2]))\n",
    "print(prueba.conversionGrados(0,\"kelvin\",\"celcius\"))\n",
    "print(prueba.factorial(5))"
   ]
  },
  {
   "attachments": {},
   "cell_type": "markdown",
   "metadata": {},
   "source": [
    "7) Es necesario que la clase creada en el punto 5 contenga una lista, sobre la cual se apliquen las funciones incorporadas"
   ]
  },
  {
   "cell_type": "code",
   "execution_count": 101,
   "metadata": {},
   "outputs": [],
   "source": [
    "class Pruebas():\n",
    "    def __init__(self,lista):\n",
    "        self.lista = lista\n",
    "\n",
    "    def verificarPrimo(self):\n",
    "        resultado = []\n",
    "\n",
    "        for num in self.lista:\n",
    "            primo = True\n",
    "            i=num-1\n",
    "\n",
    "            if num > 1:\n",
    "                while i > 1:\n",
    "                    if num%i == 0:\n",
    "                        primo = False\n",
    "                    i -= 1\n",
    "\n",
    "                resultado.append(primo)\n",
    "            else:\n",
    "                resultado.append(\"El numero debe ser mayor que 1\")\n",
    "        \n",
    "        for i in range(len(self.lista)):\n",
    "            if resultado[i] == True:\n",
    "                print(\"El número\", self.lista[i], \"si es primo\")\n",
    "            elif resultado[i] == False:\n",
    "                print(\"El número\", self.lista[i], \"no es primo\")\n",
    "            else:\n",
    "                print(resultado[i])\n",
    "        \n",
    "    def valorModal(self,):\n",
    "        cont = 0\n",
    "        rep = [0,0]\n",
    "\n",
    "        self.lista.sort()\n",
    "\n",
    "        while cont < len(self.lista):\n",
    "            numero = self.lista[cont]\n",
    "            repeticiones = self.lista.count(numero)\n",
    "            cont += repeticiones\n",
    "\n",
    "            if repeticiones > rep[1]:\n",
    "                rep[0] = numero\n",
    "                rep[1] = repeticiones\n",
    "                cont = 0\n",
    "            elif repeticiones == rep[1]:\n",
    "                if numero != rep[0]:\n",
    "                    rep.append(numero)\n",
    "                    rep.append(repeticiones)\n",
    "\n",
    "        if len(rep) > 2:\n",
    "            pos = 0\n",
    "            while pos < len(rep):\n",
    "                print(\"El número\", rep[pos], \"se repitio\", rep[pos+1], \"veces\")\n",
    "                pos += 2\n",
    "            \n",
    "            return rep[:2]\n",
    "        else:\n",
    "            print(\"El número\", rep[0], \"se repitio\", rep[1], \"veces\")\n",
    "            \n",
    "            return rep\n",
    "\n",
    "    def conversionGrados(self,medidaOrigen,medidaDestino):\n",
    "        for valor in self.lista:\n",
    "            if medidaOrigen == \"celcius\" and medidaDestino == \"farenheit\":\n",
    "                conversion = (valor * (9/5)) + 32\n",
    "                print(\"La conversión de grados celcius a farenheit del valor\", valor, \"es igual a\", conversion)\n",
    "                #return conversion\n",
    "            elif medidaOrigen == \"celcius\" and medidaDestino == \"kelvin\":\n",
    "                conversion = valor + 273.15\n",
    "                print(\"La conversión de grados celcius a kelvin del valor\", valor, \"es igual a\", conversion)\n",
    "                #return conversion\n",
    "            elif medidaOrigen == \"farenheit\" and medidaDestino == \"celcius\":\n",
    "                conversion = (valor - 32) * 5/9\n",
    "                print(\"La conversión de grados farenheit a celcius del valor\", valor, \"es igual a\", conversion)\n",
    "                #return conversion\n",
    "            elif medidaOrigen == \"farenheit\" and medidaDestino == \"kelvin\":\n",
    "                conversion = (valor - 32) * (5/9) + 273.15\n",
    "                print(\"La conversión de grados farenheit a kelvin del valor\", valor, \"es igual a\", conversion)\n",
    "                #return conversion\n",
    "            elif medidaOrigen == \"kelvin\" and medidaDestino == \"celcius\":\n",
    "                conversion = valor - 273.15\n",
    "                print(\"La conversión de grados kelvin a celcius del valor\", valor, \"es igual a\", conversion)\n",
    "                #return conversion\n",
    "            elif medidaOrigen == \"kelvin\" and medidaDestino == \"farenheit\":\n",
    "                conversion = ((valor - 273.15) * 9/5) + 32\n",
    "                print(\"La conversión de grados kelvin a farenheit del valor\", valor, \"es igual a\", conversion)\n",
    "                #return conversion\n",
    "            else:\n",
    "                return \"Alguna de las medidas esta mal escrita recuerde que es 'celcius', 'farenheit' y 'kelvin'.\\nTodo en minuscula\"\n",
    "        \n",
    "    def factorial(self):\n",
    "        for num in self.lista:\n",
    "            print(\"El factorial de\", num, \"es:\", self.factorial2(num))\n",
    "            \n",
    "    def factorial2(self,num):\n",
    "        if num <= 0:\n",
    "            return \"El numero debe ser mayor a 0\"\n",
    "        elif type(num) != int:\n",
    "            return \"El numero debe ser entero\"\n",
    "        else:\n",
    "            if num > 1:\n",
    "                num = num * self.factorial2(num-1)\n",
    "            return num"
   ]
  },
  {
   "cell_type": "code",
   "execution_count": 103,
   "metadata": {},
   "outputs": [
    {
     "name": "stdout",
     "output_type": "stream",
     "text": [
      "El número 8 no es primo\n",
      "El número 3 si es primo\n",
      "El número 2 si es primo\n",
      "El número 6 no es primo\n",
      "El número 4 no es primo\n",
      "El número 7 si es primo\n",
      "El numero debe ser mayor que 1\n",
      "El número 5 si es primo\n",
      "El número 9 no es primo\n",
      "El número 2 si es primo\n",
      "El número 8 no es primo\n",
      "El número 6 no es primo\n",
      "El número 4 no es primo\n",
      "El número 3 si es primo\n",
      "El numero debe ser mayor que 1\n",
      "El número 7 si es primo\n",
      "El número 9 no es primo\n",
      "El número 5 si es primo\n",
      "El número 8 no es primo\n",
      "El número 2 si es primo\n",
      "None\n",
      "El número 2 se repitio 3 veces\n",
      "El número 8 se repitio 3 veces\n",
      "[2, 3]\n",
      "La conversión de grados celcius a kelvin del valor 1 es igual a 274.15\n",
      "La conversión de grados celcius a kelvin del valor 1 es igual a 274.15\n",
      "La conversión de grados celcius a kelvin del valor 2 es igual a 275.15\n",
      "La conversión de grados celcius a kelvin del valor 2 es igual a 275.15\n",
      "La conversión de grados celcius a kelvin del valor 2 es igual a 275.15\n",
      "La conversión de grados celcius a kelvin del valor 3 es igual a 276.15\n",
      "La conversión de grados celcius a kelvin del valor 3 es igual a 276.15\n",
      "La conversión de grados celcius a kelvin del valor 4 es igual a 277.15\n",
      "La conversión de grados celcius a kelvin del valor 4 es igual a 277.15\n",
      "La conversión de grados celcius a kelvin del valor 5 es igual a 278.15\n",
      "La conversión de grados celcius a kelvin del valor 5 es igual a 278.15\n",
      "La conversión de grados celcius a kelvin del valor 6 es igual a 279.15\n",
      "La conversión de grados celcius a kelvin del valor 6 es igual a 279.15\n",
      "La conversión de grados celcius a kelvin del valor 7 es igual a 280.15\n",
      "La conversión de grados celcius a kelvin del valor 7 es igual a 280.15\n",
      "La conversión de grados celcius a kelvin del valor 8 es igual a 281.15\n",
      "La conversión de grados celcius a kelvin del valor 8 es igual a 281.15\n",
      "La conversión de grados celcius a kelvin del valor 8 es igual a 281.15\n",
      "La conversión de grados celcius a kelvin del valor 9 es igual a 282.15\n",
      "La conversión de grados celcius a kelvin del valor 9 es igual a 282.15\n",
      "None\n",
      "El factorial de 1 es: 1\n",
      "El factorial de 1 es: 1\n",
      "El factorial de 2 es: 2\n",
      "El factorial de 2 es: 2\n",
      "El factorial de 2 es: 2\n",
      "El factorial de 3 es: 6\n",
      "El factorial de 3 es: 6\n",
      "El factorial de 4 es: 24\n",
      "El factorial de 4 es: 24\n",
      "El factorial de 5 es: 120\n",
      "El factorial de 5 es: 120\n",
      "El factorial de 6 es: 720\n",
      "El factorial de 6 es: 720\n",
      "El factorial de 7 es: 5040\n",
      "El factorial de 7 es: 5040\n",
      "El factorial de 8 es: 40320\n",
      "El factorial de 8 es: 40320\n",
      "El factorial de 8 es: 40320\n",
      "El factorial de 9 es: 362880\n",
      "El factorial de 9 es: 362880\n",
      "None\n"
     ]
    }
   ],
   "source": [
    "a = Pruebas([8,3,2,6,4,7,1,5,9,2,8,6,4,3,1,7,9,5,8,2])\n",
    "\n",
    "print(a.verificarPrimo())\n",
    "print(a.valorModal())\n",
    "print(a.conversionGrados(\"celcius\", \"kelvin\"))\n",
    "print(a.factorial())"
   ]
  },
  {
   "attachments": {},
   "cell_type": "markdown",
   "metadata": {},
   "source": [
    "8) Crear un archivo .py aparte y ubicar allí la clase generada en el punto anterior. Luego realizar la importación del módulo y probar alguna de sus funciones"
   ]
  },
  {
   "cell_type": "code",
   "execution_count": 1,
   "metadata": {},
   "outputs": [
    {
     "name": "stdout",
     "output_type": "stream",
     "text": [
      "El factorial de 1 es: 1\n",
      "El factorial de 2 es: 2\n",
      "El factorial de 3 es: 6\n",
      "El factorial de 4 es: 24\n",
      "El factorial de 5 es: 120\n",
      "El factorial de 6 es: 720\n",
      "El factorial de 7 es: 5040\n",
      "El factorial de 8 es: 40320\n",
      "El factorial de 9 es: 362880\n",
      "None\n"
     ]
    }
   ],
   "source": [
    "from Clase_Prueba import *\n",
    "\n",
    "b = Pruebas([1,2,3,4,5,6,7,8,9])\n",
    "\n",
    "print(b.factorial())"
   ]
  }
 ],
 "metadata": {
  "interpreter": {
   "hash": "c85384e4cb51c8b72350f3a8712cc8351fdc3955e32a27f9b60c6242ab125f01"
  },
  "kernelspec": {
   "display_name": "Python 3 (ipykernel)",
   "language": "python",
   "name": "python3"
  },
  "language_info": {
   "codemirror_mode": {
    "name": "ipython",
    "version": 3
   },
   "file_extension": ".py",
   "mimetype": "text/x-python",
   "name": "python",
   "nbconvert_exporter": "python",
   "pygments_lexer": "ipython3",
   "version": "3.12.1"
  }
 },
 "nbformat": 4,
 "nbformat_minor": 4
}
