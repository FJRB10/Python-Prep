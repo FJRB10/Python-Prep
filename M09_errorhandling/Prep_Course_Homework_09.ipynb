{
 "cells": [
  {
   "attachments": {},
   "cell_type": "markdown",
   "metadata": {},
   "source": [
    "## Manejo de errores"
   ]
  },
  {
   "attachments": {},
   "cell_type": "markdown",
   "metadata": {},
   "source": [
    "1) Con la clase creada en el módulo 7, tener en cuenta diferentes casos en que el código pudiera arrojar error. Por ejemplo, en la creación del objeto recibimos una lista de números enteros pero ¿qué pasa si se envía otro tipo de dato?"
   ]
  },
  {
   "cell_type": "code",
   "execution_count": 17,
   "metadata": {},
   "outputs": [],
   "source": [
    "import Clase_Prueba as cp\n",
    "\n",
    "#prueba1 = cp.Pruebas(\"Experimento\")\n",
    "prueba2 = cp.Pruebas([1,2,3,4,5,6,7,8,9])"
   ]
  },
  {
   "attachments": {},
   "cell_type": "markdown",
   "metadata": {},
   "source": [
    "2) En la función que hace la conversión de grados, validar que los parámetros enviados sean los esperados, de no serlo, informar cuáles son los valores esperados."
   ]
  },
  {
   "cell_type": "code",
   "execution_count": 60,
   "metadata": {},
   "outputs": [
    {
     "data": {
      "text/plain": [
       "<module 'Clase_Prueba' from 'c:\\\\Users\\\\javig\\\\OneDrive\\\\Desktop\\\\Universidad\\\\Prep Course Data Science\\\\Python-Prep\\\\M09_errorhandling\\\\Clase_Prueba.py'>"
      ]
     },
     "execution_count": 60,
     "metadata": {},
     "output_type": "execute_result"
    }
   ],
   "source": [
    "import importlib\n",
    "importlib.reload(cp)"
   ]
  },
  {
   "cell_type": "code",
   "execution_count": 20,
   "metadata": {},
   "outputs": [],
   "source": [
    "#prueba3 = cp.Pruebas([1,2,3])\n",
    "#prueba3.conversionGrados(\"Celcius\",\"farenheit\")"
   ]
  },
  {
   "attachments": {},
   "cell_type": "markdown",
   "metadata": {},
   "source": [
    "3) Importar el modulo \"unittest\" y crear los siguientes casos de pruebas sobre la clase utilizada en el punto 2<br>\n",
    "Creacion del objeto incorrecta<br>\n",
    "Creacion correcta del objeto<br>\n",
    "Metodo valor_modal()<br>\n",
    "\n",
    "Se puede usar \"raise ValueError()\" en la creación de la clase para verificar el error. Investigar sobre esta funcionalidad."
   ]
  },
  {
   "cell_type": "code",
   "execution_count": 21,
   "metadata": {},
   "outputs": [],
   "source": [
    "import unittest"
   ]
  },
  {
   "cell_type": "code",
   "execution_count": 41,
   "metadata": {},
   "outputs": [],
   "source": [
    "class Test_Clase(unittest.TestCase):\n",
    "\n",
    "    def test_creacionIncorrecta(self):\n",
    "        argumento = 'Experimento'\n",
    "        self.assertRaises(TypeError, cp.Pruebas, argumento)\n",
    "\n",
    "    def test_creacionCorrecta(self):\n",
    "        argumento = [1,2,3,4,5]\n",
    "        a2 = cp.Pruebas(argumento)\n",
    "\n",
    "        self.assertEqual(a2.lista, argumento)\n",
    "\n",
    "    def test_ValorModal(self):\n",
    "        lista = [1,2,3,4,5,6,7,8,9,1,1]\n",
    "        a3 = cp.Pruebas(lista)\n",
    "\n",
    "        self.assertEqual(a3.valorModal(),[1,3])"
   ]
  },
  {
   "cell_type": "code",
   "execution_count": 42,
   "metadata": {},
   "outputs": [
    {
     "name": "stderr",
     "output_type": "stream",
     "text": [
      "test_ValorModal (__main__.Test_Clase.test_ValorModal) ... ok\n",
      "test_creacionCorrecta (__main__.Test_Clase.test_creacionCorrecta) ... ok\n",
      "test_creacionIncorrecta (__main__.Test_Clase.test_creacionIncorrecta) ... ok\n",
      "\n",
      "----------------------------------------------------------------------\n",
      "Ran 3 tests in 0.004s\n",
      "\n",
      "OK\n"
     ]
    },
    {
     "name": "stdout",
     "output_type": "stream",
     "text": [
      "El número 1 se repitio 3 veces\n"
     ]
    },
    {
     "data": {
      "text/plain": [
       "<unittest.main.TestProgram at 0x1a6d6e339e0>"
      ]
     },
     "execution_count": 42,
     "metadata": {},
     "output_type": "execute_result"
    }
   ],
   "source": [
    "unittest.main(argv=[''], verbosity=2, exit=False)"
   ]
  },
  {
   "attachments": {},
   "cell_type": "markdown",
   "metadata": {},
   "source": [
    "4) Probar una creación incorrecta y visualizar la salida del \"raise\""
   ]
  },
  {
   "cell_type": "code",
   "execution_count": 45,
   "metadata": {},
   "outputs": [
    {
     "ename": "TypeError",
     "evalue": "Solo se reciben listas con números enteros",
     "output_type": "error",
     "traceback": [
      "\u001b[1;31m---------------------------------------------------------------------------\u001b[0m",
      "\u001b[1;31mTypeError\u001b[0m                                 Traceback (most recent call last)",
      "Cell \u001b[1;32mIn[45], line 2\u001b[0m\n\u001b[0;32m      1\u001b[0m \u001b[38;5;66;03m#prubea4 = cp.Pruebas(\"Cargador\")\u001b[39;00m\n\u001b[1;32m----> 2\u001b[0m prubea4 \u001b[38;5;241m=\u001b[39m \u001b[43mcp\u001b[49m\u001b[38;5;241;43m.\u001b[39;49m\u001b[43mPruebas\u001b[49m\u001b[43m(\u001b[49m\u001b[43m[\u001b[49m\u001b[38;5;241;43m1\u001b[39;49m\u001b[43m,\u001b[49m\u001b[38;5;241;43m2\u001b[39;49m\u001b[43m,\u001b[49m\u001b[38;5;241;43m3\u001b[39;49m\u001b[43m,\u001b[49m\u001b[38;5;241;43m4\u001b[39;49m\u001b[43m,\u001b[49m\u001b[38;5;241;43m5\u001b[39;49m\u001b[43m,\u001b[49m\u001b[38;5;241;43m6\u001b[39;49m\u001b[43m,\u001b[49m\u001b[38;5;241;43m7\u001b[39;49m\u001b[43m,\u001b[49m\u001b[38;5;241;43m8\u001b[39;49m\u001b[43m,\u001b[49m\u001b[38;5;241;43m9.0\u001b[39;49m\u001b[43m]\u001b[49m\u001b[43m)\u001b[49m\n",
      "File \u001b[1;32mc:\\Users\\javig\\OneDrive\\Desktop\\Universidad\\Prep Course Data Science\\Python-Prep\\M09_errorhandling\\Clase_Prueba.py:6\u001b[0m, in \u001b[0;36mPruebas.__init__\u001b[1;34m(self, lista)\u001b[0m\n\u001b[0;32m      4\u001b[0m \u001b[38;5;28;01mfor\u001b[39;00m i \u001b[38;5;129;01min\u001b[39;00m lista:\n\u001b[0;32m      5\u001b[0m     \u001b[38;5;28;01mif\u001b[39;00m \u001b[38;5;28mtype\u001b[39m(i) \u001b[38;5;241m!=\u001b[39m \u001b[38;5;28mint\u001b[39m:\n\u001b[1;32m----> 6\u001b[0m         \u001b[38;5;28;01mraise\u001b[39;00m \u001b[38;5;167;01mTypeError\u001b[39;00m(\u001b[38;5;124m\"\u001b[39m\u001b[38;5;124mSolo se reciben listas con números enteros\u001b[39m\u001b[38;5;124m\"\u001b[39m)\n\u001b[0;32m      7\u001b[0m     \u001b[38;5;28;01melse\u001b[39;00m:\n\u001b[0;32m      8\u001b[0m         \u001b[38;5;28mself\u001b[39m\u001b[38;5;241m.\u001b[39mlista \u001b[38;5;241m=\u001b[39m lista\n",
      "\u001b[1;31mTypeError\u001b[0m: Solo se reciben listas con números enteros"
     ]
    }
   ],
   "source": [
    "#prubea4 = cp.Pruebas(\"Cargador\")\n",
    "prubea4 = cp.Pruebas([1,2,3,4,5,6,7,8,9.0])"
   ]
  },
  {
   "attachments": {},
   "cell_type": "markdown",
   "metadata": {},
   "source": [
    "6) Agregar casos de pruebas para el método verifica_primos() realizando el cambio en la clase, para que devuelva una lista de True o False en función de que el elemento en la posisicón sea o no primo"
   ]
  },
  {
   "cell_type": "code",
   "execution_count": 55,
   "metadata": {},
   "outputs": [],
   "source": [
    "import unittest\n",
    "\n",
    "class Test_Primos(unittest.TestCase):\n",
    "    def test_verfiacionPrimos(self):\n",
    "        prubea5 = cp.Pruebas([0,1,2,3,4,5,6,7,8,9])\n",
    "\n",
    "        self.assertEqual(prubea5.verificarPrimo2(),[False,False,True,True,False,True,False,True,False,False])"
   ]
  },
  {
   "cell_type": "code",
   "execution_count": 56,
   "metadata": {},
   "outputs": [
    {
     "name": "stderr",
     "output_type": "stream",
     "text": [
      "test_ValorModal (__main__.Test_Clase.test_ValorModal) ... ok\n",
      "test_creacionCorrecta (__main__.Test_Clase.test_creacionCorrecta) ... ok\n",
      "test_creacionIncorrecta (__main__.Test_Clase.test_creacionIncorrecta) ... ok\n",
      "test_verfiacionPrimos (__main__.Test_Primos.test_verfiacionPrimos) ... ok\n",
      "\n",
      "----------------------------------------------------------------------\n",
      "Ran 4 tests in 0.009s\n",
      "\n",
      "OK\n"
     ]
    },
    {
     "name": "stdout",
     "output_type": "stream",
     "text": [
      "El número 1 se repitio 3 veces\n"
     ]
    },
    {
     "data": {
      "text/plain": [
       "<unittest.main.TestProgram at 0x1a6d6f9c5c0>"
      ]
     },
     "execution_count": 56,
     "metadata": {},
     "output_type": "execute_result"
    }
   ],
   "source": [
    "unittest.main(argv=[''], verbosity=2, exit=False)"
   ]
  },
  {
   "attachments": {},
   "cell_type": "markdown",
   "metadata": {},
   "source": [
    "7) Agregar casos de pruebas para el método conversion_grados()"
   ]
  },
  {
   "cell_type": "code",
   "execution_count": 71,
   "metadata": {},
   "outputs": [],
   "source": [
    "import unittest\n",
    "\n",
    "class Test_Grados(unittest.TestCase):\n",
    "    def test_verificacionGrados(self):\n",
    "        prueba6 = cp.Pruebas([20,30,40,50])\n",
    "\n",
    "        self.assertEqual(prueba6.conversionGrados2(\"celcius\",\"kelvin\"),[293.15,303.15,313.15,323.15])"
   ]
  },
  {
   "cell_type": "code",
   "execution_count": 72,
   "metadata": {},
   "outputs": [
    {
     "name": "stderr",
     "output_type": "stream",
     "text": [
      "test_ValorModal (__main__.Test_Clase.test_ValorModal) ... ok\n",
      "test_creacionCorrecta (__main__.Test_Clase.test_creacionCorrecta) ... ok\n",
      "test_creacionIncorrecta (__main__.Test_Clase.test_creacionIncorrecta) ... ok\n",
      "test_verificacionGrados (__main__.Test_Grados.test_verificacionGrados) ... ok\n",
      "test_verfiacionPrimos (__main__.Test_Primos.test_verfiacionPrimos) ... ok\n",
      "test_verificacionFactorial (__main__.Test_factorial.test_verificacionFactorial) ... ok\n",
      "test_verificacionGRados (__main__.test_Grados.test_verificacionGRados) ... ok\n",
      "\n",
      "----------------------------------------------------------------------\n",
      "Ran 7 tests in 0.010s\n",
      "\n",
      "OK\n"
     ]
    },
    {
     "name": "stdout",
     "output_type": "stream",
     "text": [
      "El número 1 se repitio 3 veces\n",
      "La conversión de grados celcius a kelvin del valor 20 es igual a 293.15\n",
      "La conversión de grados celcius a kelvin del valor 30 es igual a 303.15\n",
      "La conversión de grados celcius a kelvin del valor 40 es igual a 313.15\n",
      "La conversión de grados celcius a kelvin del valor 50 es igual a 323.15\n",
      "El factorial de 1 es: 1\n",
      "El factorial de 2 es: 2\n",
      "El factorial de 3 es: 6\n",
      "El factorial de 4 es: 24\n",
      "El factorial de 5 es: 120\n",
      "El factorial de 6 es: 720\n",
      "El factorial de 7 es: 5040\n",
      "El factorial de 8 es: 40320\n",
      "El factorial de 9 es: 362880\n",
      "La conversión de grados celcius a kelvin del valor 20 es igual a 293.15\n",
      "La conversión de grados celcius a kelvin del valor 30 es igual a 303.15\n",
      "La conversión de grados celcius a kelvin del valor 40 es igual a 313.15\n",
      "La conversión de grados celcius a kelvin del valor 50 es igual a 323.15\n"
     ]
    },
    {
     "data": {
      "text/plain": [
       "<unittest.main.TestProgram at 0x1a6d69c9850>"
      ]
     },
     "execution_count": 72,
     "metadata": {},
     "output_type": "execute_result"
    }
   ],
   "source": [
    "unittest.main(argv=[''], verbosity=2, exit=False)"
   ]
  },
  {
   "attachments": {},
   "cell_type": "markdown",
   "metadata": {},
   "source": [
    "8) Agregar casos de pruebas para el método factorial()"
   ]
  },
  {
   "cell_type": "code",
   "execution_count": 64,
   "metadata": {},
   "outputs": [],
   "source": [
    "import unittest\n",
    "\n",
    "class Test_factorial(unittest.TestCase):\n",
    "    def test_verificacionFactorial(self):\n",
    "        prueba7 = cp.Pruebas([1,2,3,4,5,6,7,8,9])\n",
    "\n",
    "        self.assertEqual(prueba7.factorial(),[1,2,6,24,120,720,5040,40320,362880])"
   ]
  },
  {
   "cell_type": "code",
   "execution_count": 74,
   "metadata": {},
   "outputs": [
    {
     "name": "stderr",
     "output_type": "stream",
     "text": [
      "test_ValorModal (__main__.Test_Clase.test_ValorModal) ... ok\n",
      "test_creacionCorrecta (__main__.Test_Clase.test_creacionCorrecta) ... ok\n",
      "test_creacionIncorrecta (__main__.Test_Clase.test_creacionIncorrecta) ... ok\n",
      "test_verificacionGrados (__main__.Test_Grados.test_verificacionGrados) ... ok\n",
      "test_verfiacionPrimos (__main__.Test_Primos.test_verfiacionPrimos) ... ok\n",
      "test_verificacionFactorial (__main__.Test_factorial.test_verificacionFactorial) ... ok\n",
      "test_verificacionGRados (__main__.test_Grados.test_verificacionGRados) ... ok\n",
      "\n",
      "----------------------------------------------------------------------\n",
      "Ran 7 tests in 0.012s\n",
      "\n",
      "OK\n"
     ]
    },
    {
     "name": "stdout",
     "output_type": "stream",
     "text": [
      "El número 1 se repitio 3 veces\n",
      "La conversión de grados celcius a kelvin del valor 20 es igual a 293.15\n",
      "La conversión de grados celcius a kelvin del valor 30 es igual a 303.15\n",
      "La conversión de grados celcius a kelvin del valor 40 es igual a 313.15\n",
      "La conversión de grados celcius a kelvin del valor 50 es igual a 323.15\n",
      "El factorial de 1 es: 1\n",
      "El factorial de 2 es: 2\n",
      "El factorial de 3 es: 6\n",
      "El factorial de 4 es: 24\n",
      "El factorial de 5 es: 120\n",
      "El factorial de 6 es: 720\n",
      "El factorial de 7 es: 5040\n",
      "El factorial de 8 es: 40320\n",
      "El factorial de 9 es: 362880\n",
      "La conversión de grados celcius a kelvin del valor 20 es igual a 293.15\n",
      "La conversión de grados celcius a kelvin del valor 30 es igual a 303.15\n",
      "La conversión de grados celcius a kelvin del valor 40 es igual a 313.15\n",
      "La conversión de grados celcius a kelvin del valor 50 es igual a 323.15\n"
     ]
    },
    {
     "data": {
      "text/plain": [
       "<unittest.main.TestProgram at 0x1a6d6979490>"
      ]
     },
     "execution_count": 74,
     "metadata": {},
     "output_type": "execute_result"
    }
   ],
   "source": [
    "unittest.main(argv=[''],verbosity=2, exit=False)"
   ]
  }
 ],
 "metadata": {
  "interpreter": {
   "hash": "c85384e4cb51c8b72350f3a8712cc8351fdc3955e32a27f9b60c6242ab125f01"
  },
  "kernelspec": {
   "display_name": "Python 3 (ipykernel)",
   "language": "python",
   "name": "python3"
  },
  "language_info": {
   "codemirror_mode": {
    "name": "ipython",
    "version": 3
   },
   "file_extension": ".py",
   "mimetype": "text/x-python",
   "name": "python",
   "nbconvert_exporter": "python",
   "pygments_lexer": "ipython3",
   "version": "3.12.1"
  }
 },
 "nbformat": 4,
 "nbformat_minor": 4
}
