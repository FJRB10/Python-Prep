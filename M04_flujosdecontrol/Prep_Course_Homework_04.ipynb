{
 "cells": [
  {
   "attachments": {},
   "cell_type": "markdown",
   "metadata": {},
   "source": [
    "## Flujos de Control"
   ]
  },
  {
   "attachments": {},
   "cell_type": "markdown",
   "metadata": {},
   "source": [
    "1) Crear una variable que contenga un elemento del conjunto de números enteros y luego imprimir por pantalla si es mayor o menor a cero"
   ]
  },
  {
   "cell_type": "code",
   "execution_count": 3,
   "metadata": {},
   "outputs": [
    {
     "name": "stdout",
     "output_type": "stream",
     "text": [
      "10 es mayor a 0\n"
     ]
    }
   ],
   "source": [
    "num = 10\n",
    "if num > 0:\n",
    "    print(num, \"es mayor a 0\")\n",
    "else:\n",
    "    print(num, \"es menor a 0\")"
   ]
  },
  {
   "attachments": {},
   "cell_type": "markdown",
   "metadata": {},
   "source": [
    "2) Crear dos variables y un condicional que informe si son del mismo tipo de dato"
   ]
  },
  {
   "cell_type": "code",
   "execution_count": 6,
   "metadata": {},
   "outputs": [
    {
     "name": "stdout",
     "output_type": "stream",
     "text": [
      "Las variables son de diferente tipo\n"
     ]
    }
   ],
   "source": [
    "numero = 5\n",
    "letra = \"A\"\n",
    "\n",
    "if type(numero) == type(letra):\n",
    "    print(\"Las variables son del mismo tipo\")\n",
    "else:\n",
    "    print(\"Las variables son de diferente tipo\")"
   ]
  },
  {
   "attachments": {},
   "cell_type": "markdown",
   "metadata": {},
   "source": [
    "3) Para los valores enteros del 1 al 20, imprimir por pantalla si es par o impar"
   ]
  },
  {
   "cell_type": "code",
   "execution_count": 12,
   "metadata": {},
   "outputs": [
    {
     "name": "stdout",
     "output_type": "stream",
     "text": [
      "El número 1 es impar\n",
      "El número 2 es par\n",
      "El número 3 es impar\n",
      "El número 4 es par\n",
      "El número 5 es impar\n",
      "El número 6 es par\n",
      "El número 7 es impar\n",
      "El número 8 es par\n",
      "El número 9 es impar\n",
      "El número 10 es par\n",
      "El número 11 es impar\n",
      "El número 12 es par\n",
      "El número 13 es impar\n",
      "El número 14 es par\n",
      "El número 15 es impar\n",
      "El número 16 es par\n",
      "El número 17 es impar\n",
      "El número 18 es par\n",
      "El número 19 es impar\n",
      "El número 20 es par\n"
     ]
    }
   ],
   "source": [
    "for i in range(1,21):\n",
    "    #print(\"El número\", i, \"es par\") if i%2 == 0 else print(\"El numero\", i, \"es impar\")\n",
    "\n",
    "    if i%2 == 0:\n",
    "        print(\"El número\", i, \"es par\")\n",
    "    else:\n",
    "        print(\"El número\", i, \"es impar\")"
   ]
  },
  {
   "attachments": {},
   "cell_type": "markdown",
   "metadata": {},
   "source": [
    "4) En un ciclo for mostrar para los valores entre 0 y 5 el resultado de elevarlo a la potencia igual a 3"
   ]
  },
  {
   "cell_type": "code",
   "execution_count": 15,
   "metadata": {},
   "outputs": [
    {
     "name": "stdout",
     "output_type": "stream",
     "text": [
      "0\n",
      "1\n",
      "8\n",
      "27\n",
      "64\n",
      "125\n",
      "0\n",
      "1\n",
      "8\n",
      "27\n",
      "64\n",
      "125\n"
     ]
    }
   ],
   "source": [
    "valores = [0 ,1, 2, 3, 4, 5]\n",
    "\n",
    "for num in valores:\n",
    "    num **= 3\n",
    "    print(num)\n",
    "\n",
    "#for i in range(6):\n",
    "#    i **= 3\n",
    "#    print(i)"
   ]
  },
  {
   "attachments": {},
   "cell_type": "markdown",
   "metadata": {},
   "source": [
    "5) Crear una variable que contenga un número entero y realizar un ciclo for la misma cantidad de ciclos"
   ]
  },
  {
   "cell_type": "code",
   "execution_count": 16,
   "metadata": {},
   "outputs": [
    {
     "name": "stdout",
     "output_type": "stream",
     "text": [
      "Ciclo número: 1\n",
      "Ciclo número: 2\n"
     ]
    }
   ],
   "source": [
    "var1 = 2\n",
    "\n",
    "for i in range(var1):\n",
    "    print(\"Ciclo número:\", i+1)"
   ]
  },
  {
   "attachments": {},
   "cell_type": "markdown",
   "metadata": {},
   "source": [
    "6) Utilizar un ciclo while para realizar el factorial de un número guardado en una variable, sólo si la variable contiene un número entero mayor a 0"
   ]
  },
  {
   "cell_type": "code",
   "execution_count": 48,
   "metadata": {},
   "outputs": [
    {
     "name": "stdout",
     "output_type": "stream",
     "text": [
      "El resultado del factorial del número 5 es: 120\n"
     ]
    }
   ],
   "source": [
    "num2 = 5\n",
    "res = 1\n",
    "\n",
    "if num2 > 0:\n",
    "    num3 = num2\n",
    "\n",
    "    while num3 > 0:\n",
    "        res *= num3\n",
    "        num3 -= 1\n",
    "\n",
    "    print(\"El resultado del factorial del número\", num2, \"es:\", res)\n",
    "elif num2 == 0:\n",
    "    print(\"El resultado del factorial del número\", num2, \"es:\", res)\n",
    "else:\n",
    "    print(\"El número debe ser mayor a 0\")"
   ]
  },
  {
   "attachments": {},
   "cell_type": "markdown",
   "metadata": {},
   "source": [
    "7) Crear un ciclo for dentro de un ciclo while"
   ]
  },
  {
   "cell_type": "code",
   "execution_count": 53,
   "metadata": {},
   "outputs": [
    {
     "name": "stdout",
     "output_type": "stream",
     "text": [
      "1\n",
      "2\n",
      "3\n",
      "4\n",
      "5\n",
      "1\n",
      "2\n",
      "3\n",
      "4\n",
      "5\n",
      "1\n",
      "2\n",
      "3\n",
      "4\n",
      "5\n"
     ]
    }
   ],
   "source": [
    "iteraciones = 3\n",
    "\n",
    "while iteraciones > 0:\n",
    "    \n",
    "    for i in range(5):\n",
    "        print(i+1)\n",
    "\n",
    "    iteraciones -= 1"
   ]
  },
  {
   "attachments": {},
   "cell_type": "markdown",
   "metadata": {},
   "source": [
    "8) Crear un ciclo while dentro de un ciclo for"
   ]
  },
  {
   "cell_type": "code",
   "execution_count": 63,
   "metadata": {},
   "outputs": [
    {
     "name": "stdout",
     "output_type": "stream",
     "text": [
      "1\n",
      "2\n",
      "3\n",
      "4\n",
      "5\n",
      "1\n",
      "2\n",
      "3\n",
      "4\n",
      "5\n",
      "1\n",
      "2\n",
      "3\n",
      "4\n",
      "5\n"
     ]
    }
   ],
   "source": [
    "iteraciones2 = 1\n",
    "\n",
    "for i in range(1,4):\n",
    "    while iteraciones2 <= 5:\n",
    "        print(iteraciones2)\n",
    "        iteraciones2 += 1\n",
    "\n",
    "    iteraciones2 = 1\n",
    "    \n",
    "    "
   ]
  },
  {
   "attachments": {},
   "cell_type": "markdown",
   "metadata": {},
   "source": [
    "9) Imprimir los números primos existentes entre 0 y 30"
   ]
  },
  {
   "cell_type": "code",
   "execution_count": 85,
   "metadata": {},
   "outputs": [
    {
     "name": "stdout",
     "output_type": "stream",
     "text": [
      "2\n",
      "3\n",
      "5\n",
      "7\n",
      "11\n",
      "13\n",
      "17\n",
      "19\n",
      "23\n",
      "29\n"
     ]
    }
   ],
   "source": [
    "for i in range(0,31):\n",
    "    if i == 0 or i == 1:\n",
    "        continue\n",
    "    else:\n",
    "        contNum = 0\n",
    "        divisor = i\n",
    "\n",
    "        while divisor >= 1:\n",
    "            if i%divisor == 0:\n",
    "                contNum += 1\n",
    "            divisor -= 1\n",
    "\n",
    "        if contNum == 2:\n",
    "            print(i)\n",
    "\n",
    "    contNum = 0"
   ]
  },
  {
   "attachments": {},
   "cell_type": "markdown",
   "metadata": {},
   "source": [
    "10) ¿Se puede mejorar el proceso del punto 9? Utilizar las sentencias break y/ó continue para tal fin"
   ]
  },
  {
   "cell_type": "code",
   "execution_count": null,
   "metadata": {},
   "outputs": [],
   "source": []
  },
  {
   "attachments": {},
   "cell_type": "markdown",
   "metadata": {},
   "source": [
    "11) En los puntos 9 y 10, se diseño un código que encuentra números primos y además se lo optimizó. ¿Es posible saber en qué medida se optimizó?"
   ]
  },
  {
   "cell_type": "code",
   "execution_count": null,
   "metadata": {},
   "outputs": [],
   "source": []
  },
  {
   "attachments": {},
   "cell_type": "markdown",
   "metadata": {},
   "source": [
    "12) Aplicando continue, armar un ciclo while que solo imprima los valores divisibles por 12, dentro del rango de números de 100 a 300"
   ]
  },
  {
   "cell_type": "code",
   "execution_count": 87,
   "metadata": {},
   "outputs": [
    {
     "name": "stdout",
     "output_type": "stream",
     "text": [
      "108\n",
      "120\n",
      "132\n",
      "144\n",
      "156\n",
      "168\n",
      "180\n",
      "192\n",
      "204\n",
      "216\n",
      "228\n",
      "240\n",
      "252\n",
      "264\n",
      "276\n",
      "288\n",
      "300\n"
     ]
    }
   ],
   "source": [
    "iterador = 100\n",
    "\n",
    "while iterador <= 300:\n",
    "    if iterador%12 != 0:\n",
    "        iterador += 1\n",
    "        continue\n",
    "    else:\n",
    "        print(iterador)\n",
    "    \n",
    "    iterador += 1\n"
   ]
  },
  {
   "attachments": {},
   "cell_type": "markdown",
   "metadata": {},
   "source": [
    "13) Utilizar la función **input()** que permite hacer ingresos por teclado, para encontrar números primos y dar la opción al usario de buscar el siguiente"
   ]
  },
  {
   "cell_type": "code",
   "execution_count": 114,
   "metadata": {},
   "outputs": [
    {
     "name": "stdout",
     "output_type": "stream",
     "text": [
      "Número no valido, vuelva a correr el programa\n"
     ]
    }
   ],
   "source": [
    "preg1 = int(input(\"Digite 1 si desea hacer busqueda de números primos, si no digite 2\"))\n",
    "\n",
    "if preg1 == 1:\n",
    "    print(\"Inicia la busqueda de números primos\")\n",
    "    \n",
    "    numero2 = 2\n",
    "    divisor = numero2\n",
    "\n",
    "    while True:\n",
    "        cont = 0\n",
    "        while divisor >= 1:\n",
    "\n",
    "            if numero2%divisor == 0:\n",
    "                cont += 1\n",
    "\n",
    "            divisor -= 1\n",
    "\n",
    "        if cont == 2:\n",
    "            print(numero2)\n",
    "        else:\n",
    "            numero2 += 1\n",
    "            divisor = numero2\n",
    "            continue\n",
    "\n",
    "        preg2 = int(input(\"¿Desea saber el siguiente numero primo? 1 para si y 2 para no\"))\n",
    "\n",
    "        if preg2 == 1:\n",
    "            numero2 += 1\n",
    "            divisor = numero2\n",
    "            print(\"numero2:\", numero2, \"divisor:\", divisor, \"contador:\", cont)\n",
    "            #continue\n",
    "        else:\n",
    "            print(\"Gracias, vuelva pronto\")\n",
    "            break\n",
    "elif preg1 == 2:\n",
    "    print(\"Gracias, vuelva pronto\")\n",
    "else:\n",
    "    print(\"Número no valido, vuelva a correr el programa\")\n"
   ]
  },
  {
   "attachments": {},
   "cell_type": "markdown",
   "metadata": {},
   "source": [
    "14) Crear un ciclo while que encuentre dentro del rango de 100 a 300 el primer número divisible por 3 y además múltiplo de 6"
   ]
  },
  {
   "cell_type": "code",
   "execution_count": 117,
   "metadata": {},
   "outputs": [
    {
     "name": "stdout",
     "output_type": "stream",
     "text": [
      "102\n"
     ]
    }
   ],
   "source": [
    "var2 = 100\n",
    "\n",
    "while var2 <= 300:\n",
    "    if var2%3 == 0 and var2%6==0:\n",
    "        print(var2)\n",
    "        break\n",
    "    else:\n",
    "        var2 += 1"
   ]
  }
 ],
 "metadata": {
  "interpreter": {
   "hash": "c85384e4cb51c8b72350f3a8712cc8351fdc3955e32a27f9b60c6242ab125f01"
  },
  "kernelspec": {
   "display_name": "Python 3 (ipykernel)",
   "language": "python",
   "name": "python3"
  },
  "language_info": {
   "codemirror_mode": {
    "name": "ipython",
    "version": 3
   },
   "file_extension": ".py",
   "mimetype": "text/x-python",
   "name": "python",
   "nbconvert_exporter": "python",
   "pygments_lexer": "ipython3",
   "version": "3.12.1"
  }
 },
 "nbformat": 4,
 "nbformat_minor": 4
}
