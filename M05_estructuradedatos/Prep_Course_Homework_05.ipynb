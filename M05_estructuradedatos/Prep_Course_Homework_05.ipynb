{
 "cells": [
  {
   "attachments": {},
   "cell_type": "markdown",
   "metadata": {},
   "source": [
    "## Estructuras de Datos"
   ]
  },
  {
   "attachments": {},
   "cell_type": "markdown",
   "metadata": {},
   "source": [
    "1) Crear una lista que contenga nombres de ciudades del mundo que contenga más de 5 elementos e imprimir por pantalla"
   ]
  },
  {
   "cell_type": "code",
   "execution_count": 13,
   "metadata": {},
   "outputs": [
    {
     "name": "stdout",
     "output_type": "stream",
     "text": [
      "['Nueva Tork', 'París', 'Tokio', 'Londres', 'Roma', 'Pekin', 'Río de Janeiro', 'Sidney', 'Estambul', 'Ciudad de Mexico']\n"
     ]
    }
   ],
   "source": [
    "listaCiudades = ['Nueva Tork','París', 'Tokio', 'Londres', 'Roma', 'Pekin', 'Río de Janeiro', 'Sidney', 'Estambul', 'Ciudad de Mexico']\n",
    "print(listaCiudades)"
   ]
  },
  {
   "attachments": {},
   "cell_type": "markdown",
   "metadata": {},
   "source": [
    "2) Imprimir por pantalla el segundo elemento de la lista"
   ]
  },
  {
   "cell_type": "code",
   "execution_count": 2,
   "metadata": {},
   "outputs": [
    {
     "name": "stdout",
     "output_type": "stream",
     "text": [
      "Segundo elemento de la lista de ciudades: París\n"
     ]
    }
   ],
   "source": [
    "print(\"Segundo elemento de la lista de ciudades:\", listaCiudades[1])"
   ]
  },
  {
   "attachments": {},
   "cell_type": "markdown",
   "metadata": {},
   "source": [
    "3) Imprimir por pantalla del segundo al cuarto elemento"
   ]
  },
  {
   "cell_type": "code",
   "execution_count": 3,
   "metadata": {},
   "outputs": [
    {
     "name": "stdout",
     "output_type": "stream",
     "text": [
      "Del segundo al cuarto elemento de la lista de ciudades: ['París', 'Tokio', 'Londres', 'Roma']\n"
     ]
    }
   ],
   "source": [
    "print(\"Del segundo al cuarto elemento de la lista de ciudades:\", listaCiudades[1:5])"
   ]
  },
  {
   "attachments": {},
   "cell_type": "markdown",
   "metadata": {},
   "source": [
    "4) Visualizar el tipo de dato de la lista"
   ]
  },
  {
   "cell_type": "code",
   "execution_count": 4,
   "metadata": {},
   "outputs": [
    {
     "data": {
      "text/plain": [
       "list"
      ]
     },
     "execution_count": 4,
     "metadata": {},
     "output_type": "execute_result"
    }
   ],
   "source": [
    "type(listaCiudades)"
   ]
  },
  {
   "attachments": {},
   "cell_type": "markdown",
   "metadata": {},
   "source": [
    "5) Visualizar todos los elementos de la lista a partir del tercero de manera genérica, es decir, sin explicitar la posición del último elemento"
   ]
  },
  {
   "cell_type": "code",
   "execution_count": 5,
   "metadata": {},
   "outputs": [
    {
     "data": {
      "text/plain": [
       "['Tokio',\n",
       " 'Londres',\n",
       " 'Roma',\n",
       " 'Pekin',\n",
       " 'Río de Janeiro',\n",
       " 'Sidney',\n",
       " 'Estambul',\n",
       " 'Ciudad de Mexico']"
      ]
     },
     "execution_count": 5,
     "metadata": {},
     "output_type": "execute_result"
    }
   ],
   "source": [
    "listaCiudades[2:]"
   ]
  },
  {
   "attachments": {},
   "cell_type": "markdown",
   "metadata": {},
   "source": [
    "6) Visualizar los primeros 4 elementos de la lista"
   ]
  },
  {
   "cell_type": "code",
   "execution_count": 8,
   "metadata": {},
   "outputs": [
    {
     "data": {
      "text/plain": [
       "['Nueva Tork', 'París', 'Tokio', 'Londres']"
      ]
     },
     "execution_count": 8,
     "metadata": {},
     "output_type": "execute_result"
    }
   ],
   "source": [
    "listaCiudades[:4]"
   ]
  },
  {
   "attachments": {},
   "cell_type": "markdown",
   "metadata": {},
   "source": [
    "7) Agregar una ciudad más a la lista que ya exista y otra que no ¿Arroja algún tipo de error?"
   ]
  },
  {
   "cell_type": "code",
   "execution_count": 14,
   "metadata": {},
   "outputs": [
    {
     "name": "stdout",
     "output_type": "stream",
     "text": [
      "['Nueva Tork', 'París', 'Tokio', 'Londres', 'Roma', 'Pekin', 'Río de Janeiro', 'Sidney', 'Estambul', 'Ciudad de Mexico', 'Roma', 'Dubai']\n"
     ]
    }
   ],
   "source": [
    "listaCiudades.append('Roma')\n",
    "listaCiudades.append('Dubai')\n",
    "print(listaCiudades)"
   ]
  },
  {
   "attachments": {},
   "cell_type": "markdown",
   "metadata": {},
   "source": [
    "8) Agregar otra ciudad, pero en la cuarta posición"
   ]
  },
  {
   "cell_type": "code",
   "execution_count": 15,
   "metadata": {},
   "outputs": [
    {
     "name": "stdout",
     "output_type": "stream",
     "text": [
      "['Nueva Tork', 'París', 'Tokio', 'Barcelona', 'Londres', 'Roma', 'Pekin', 'Río de Janeiro', 'Sidney', 'Estambul', 'Ciudad de Mexico', 'Roma', 'Dubai']\n"
     ]
    }
   ],
   "source": [
    "listaCiudades.insert(3,'Barcelona')\n",
    "print(listaCiudades)"
   ]
  },
  {
   "attachments": {},
   "cell_type": "markdown",
   "metadata": {},
   "source": [
    "9) Concatenar otra lista a la ya creada"
   ]
  },
  {
   "cell_type": "code",
   "execution_count": 16,
   "metadata": {},
   "outputs": [
    {
     "name": "stdout",
     "output_type": "stream",
     "text": [
      "['Nueva Tork', 'París', 'Tokio', 'Barcelona', 'Londres', 'Roma', 'Pekin', 'Río de Janeiro', 'Sidney', 'Estambul', 'Ciudad de Mexico', 'Roma', 'Dubai', 1, 2, 3, 4, 5]\n"
     ]
    }
   ],
   "source": [
    "lista2 = [1,2,3,4,5]\n",
    "\n",
    "listaCiudades.extend(lista2)\n",
    "\n",
    "print(listaCiudades)"
   ]
  },
  {
   "attachments": {},
   "cell_type": "markdown",
   "metadata": {},
   "source": [
    "10) Encontrar el índice de la ciudad que en el punto 7 agregamos duplicada. ¿Se nota alguna particularidad?"
   ]
  },
  {
   "cell_type": "code",
   "execution_count": 22,
   "metadata": {},
   "outputs": [
    {
     "name": "stdout",
     "output_type": "stream",
     "text": [
      "5\n"
     ]
    }
   ],
   "source": [
    "print(listaCiudades.index('Roma'))"
   ]
  },
  {
   "cell_type": "markdown",
   "metadata": {},
   "source": [
    "La función .index() solo arroja el indice de la primera coincidencia que encuentre. No arrojara las dos coincidencias que hay o si llega haber más solo arrojara la más cercana al inicio."
   ]
  },
  {
   "attachments": {},
   "cell_type": "markdown",
   "metadata": {},
   "source": [
    "11) ¿Qué pasa si se busca un elemento que no existe?"
   ]
  },
  {
   "cell_type": "code",
   "execution_count": 27,
   "metadata": {},
   "outputs": [
    {
     "ename": "ValueError",
     "evalue": "'Bogota' is not in list",
     "output_type": "error",
     "traceback": [
      "\u001b[1;31m---------------------------------------------------------------------------\u001b[0m",
      "\u001b[1;31mValueError\u001b[0m                                Traceback (most recent call last)",
      "Cell \u001b[1;32mIn[27], line 1\u001b[0m\n\u001b[1;32m----> 1\u001b[0m \u001b[43mlistaCiudades\u001b[49m\u001b[38;5;241;43m.\u001b[39;49m\u001b[43mindex\u001b[49m\u001b[43m(\u001b[49m\u001b[38;5;124;43m'\u001b[39;49m\u001b[38;5;124;43mBogota\u001b[39;49m\u001b[38;5;124;43m'\u001b[39;49m\u001b[43m)\u001b[49m\n",
      "\u001b[1;31mValueError\u001b[0m: 'Bogota' is not in list"
     ]
    }
   ],
   "source": [
    "listaCiudades.index('Bogota')"
   ]
  },
  {
   "cell_type": "markdown",
   "metadata": {},
   "source": [
    "Si se busca un elemento que no este en la lista, habra un error que nos indica que dicho elemento no esta en la lista."
   ]
  },
  {
   "attachments": {},
   "cell_type": "markdown",
   "metadata": {},
   "source": [
    "12) Eliminar un elemento de la lista"
   ]
  },
  {
   "cell_type": "code",
   "execution_count": 28,
   "metadata": {},
   "outputs": [
    {
     "name": "stdout",
     "output_type": "stream",
     "text": [
      "Lista actual: ['Nueva Tork', 'París', 'Tokio', 'Barcelona', 'Londres', 'Roma', 'Pekin', 'Río de Janeiro', 'Sidney', 'Estambul', 'Ciudad de Mexico', 'Roma', 'Dubai', 1, 2, 3, 4]\n",
      "Elemento eliminado: 5\n"
     ]
    }
   ],
   "source": [
    "eliminado = listaCiudades.pop()\n",
    "\n",
    "print(\"Lista actual:\", listaCiudades)\n",
    "print(\"Elemento eliminado:\", eliminado)"
   ]
  },
  {
   "attachments": {},
   "cell_type": "markdown",
   "metadata": {},
   "source": [
    "13) ¿Qué pasa si el elemento a eliminar no existe?"
   ]
  },
  {
   "cell_type": "code",
   "execution_count": 40,
   "metadata": {},
   "outputs": [
    {
     "ename": "ValueError",
     "evalue": "list.remove(x): x not in list",
     "output_type": "error",
     "traceback": [
      "\u001b[1;31m---------------------------------------------------------------------------\u001b[0m",
      "\u001b[1;31mValueError\u001b[0m                                Traceback (most recent call last)",
      "Cell \u001b[1;32mIn[40], line 1\u001b[0m\n\u001b[1;32m----> 1\u001b[0m \u001b[43mlistaCiudades\u001b[49m\u001b[38;5;241;43m.\u001b[39;49m\u001b[43mremove\u001b[49m\u001b[43m(\u001b[49m\u001b[38;5;241;43m5\u001b[39;49m\u001b[43m)\u001b[49m\n",
      "\u001b[1;31mValueError\u001b[0m: list.remove(x): x not in list"
     ]
    }
   ],
   "source": [
    "listaCiudades.remove(5)"
   ]
  },
  {
   "cell_type": "markdown",
   "metadata": {},
   "source": [
    "Si el elemento a eliminar de una lista no existe, habra un error que dice que el elemento que se quiere eliminar no existe dentro de la lista."
   ]
  },
  {
   "attachments": {},
   "cell_type": "markdown",
   "metadata": {},
   "source": [
    "14) Extraer el úlimo elemento de la lista, guardarlo en una variable e imprimirlo"
   ]
  },
  {
   "cell_type": "code",
   "execution_count": 42,
   "metadata": {},
   "outputs": [
    {
     "name": "stdout",
     "output_type": "stream",
     "text": [
      "El último elemento de la lista de ciudades es: 4\n"
     ]
    }
   ],
   "source": [
    "indice = len(listaCiudades)-1\n",
    "ult = listaCiudades[indice]\n",
    "\n",
    "print(\"El último elemento de la lista de ciudades es:\", ult)"
   ]
  },
  {
   "attachments": {},
   "cell_type": "markdown",
   "metadata": {},
   "source": [
    "15) Mostrar la lista multiplicada por 4"
   ]
  },
  {
   "cell_type": "code",
   "execution_count": 43,
   "metadata": {},
   "outputs": [
    {
     "name": "stdout",
     "output_type": "stream",
     "text": [
      "['Nueva Tork', 'París', 'Tokio', 'Barcelona', 'Londres', 'Roma', 'Pekin', 'Río de Janeiro', 'Sidney', 'Estambul', 'Ciudad de Mexico', 'Roma', 'Dubai', 1, 2, 3, 4, 'Nueva Tork', 'París', 'Tokio', 'Barcelona', 'Londres', 'Roma', 'Pekin', 'Río de Janeiro', 'Sidney', 'Estambul', 'Ciudad de Mexico', 'Roma', 'Dubai', 1, 2, 3, 4, 'Nueva Tork', 'París', 'Tokio', 'Barcelona', 'Londres', 'Roma', 'Pekin', 'Río de Janeiro', 'Sidney', 'Estambul', 'Ciudad de Mexico', 'Roma', 'Dubai', 1, 2, 3, 4, 'Nueva Tork', 'París', 'Tokio', 'Barcelona', 'Londres', 'Roma', 'Pekin', 'Río de Janeiro', 'Sidney', 'Estambul', 'Ciudad de Mexico', 'Roma', 'Dubai', 1, 2, 3, 4]\n"
     ]
    }
   ],
   "source": [
    "print(listaCiudades * 4)"
   ]
  },
  {
   "attachments": {},
   "cell_type": "markdown",
   "metadata": {},
   "source": [
    "16) Crear una tupla que contenga los números enteros del 1 al 20"
   ]
  },
  {
   "cell_type": "code",
   "execution_count": 50,
   "metadata": {},
   "outputs": [
    {
     "data": {
      "text/plain": [
       "(0, 1, 2, 3, 4, 5, 6, 7, 8, 9, 10, 11, 12, 13, 14, 15, 16, 17, 18, 19, 20)"
      ]
     },
     "execution_count": 50,
     "metadata": {},
     "output_type": "execute_result"
    }
   ],
   "source": [
    "lista3 = list()\n",
    "\n",
    "for i in range(21):\n",
    "    lista3.append(i)\n",
    "\n",
    "tupla1 = tuple(lista3)\n",
    "tupla1"
   ]
  },
  {
   "attachments": {},
   "cell_type": "markdown",
   "metadata": {},
   "source": [
    "17) Imprimir desde el índice 10 al 15 de la tupla"
   ]
  },
  {
   "cell_type": "code",
   "execution_count": 51,
   "metadata": {},
   "outputs": [
    {
     "data": {
      "text/plain": [
       "(10, 11, 12, 13, 14)"
      ]
     },
     "execution_count": 51,
     "metadata": {},
     "output_type": "execute_result"
    }
   ],
   "source": [
    "tupla1[10:15]"
   ]
  },
  {
   "attachments": {},
   "cell_type": "markdown",
   "metadata": {},
   "source": [
    "18) Evaluar si los números 20 y 30 están dentro de la tupla"
   ]
  },
  {
   "cell_type": "code",
   "execution_count": 60,
   "metadata": {},
   "outputs": [
    {
     "name": "stdout",
     "output_type": "stream",
     "text": [
      "20 is in the tuple: True\n",
      "30 is in the tuple: False\n"
     ]
    }
   ],
   "source": [
    "print(\"20 is in the tuple:\", 20 in tupla1)\n",
    "print(\"30 is in the tuple:\", 30 in tupla1)"
   ]
  },
  {
   "attachments": {},
   "cell_type": "markdown",
   "metadata": {},
   "source": [
    "19) Con la lista creada en el punto 1, validar la existencia del elemento 'París' y si no existe, agregarlo. Utilizar una variable e informar lo sucedido."
   ]
  },
  {
   "cell_type": "code",
   "execution_count": 74,
   "metadata": {},
   "outputs": [
    {
     "name": "stdout",
     "output_type": "stream",
     "text": [
      "La ciudad ya esta en la lista\n"
     ]
    }
   ],
   "source": [
    "lista4 = ['Nueva Tork','París', 'Tokio', 'Londres', 'Roma', 'Pekin', 'Río de Janeiro', 'Sidney', 'Estambul', 'Ciudad de México']\n",
    "\n",
    "cond1 = 'París' in lista4\n",
    "\n",
    "print(\"La ciudad ya esta en la lista\") if cond1 else lista4.append('París')\n",
    "#lista4.append('París') if not cond1 else print(\"La ciudad ya esta en la lista\")"
   ]
  },
  {
   "attachments": {},
   "cell_type": "markdown",
   "metadata": {},
   "source": [
    "20) Mostrar la cantidad de veces que se encuentra un elemento específico dentro de la tupla y de la lista"
   ]
  },
  {
   "cell_type": "code",
   "execution_count": 67,
   "metadata": {},
   "outputs": [
    {
     "name": "stdout",
     "output_type": "stream",
     "text": [
      "1\n",
      "1\n"
     ]
    }
   ],
   "source": [
    "print(lista4.count('Londres'))\n",
    "print(tupla1.count(1))"
   ]
  },
  {
   "attachments": {},
   "cell_type": "markdown",
   "metadata": {},
   "source": [
    "21) Convertir la tupla en una lista"
   ]
  },
  {
   "cell_type": "code",
   "execution_count": 70,
   "metadata": {},
   "outputs": [
    {
     "name": "stdout",
     "output_type": "stream",
     "text": [
      "[0, 1, 2, 3, 4, 5, 6, 7, 8, 9, 10, 11, 12, 13, 14, 15, 16, 17, 18, 19, 20]\n"
     ]
    },
    {
     "data": {
      "text/plain": [
       "list"
      ]
     },
     "execution_count": 70,
     "metadata": {},
     "output_type": "execute_result"
    }
   ],
   "source": [
    "lista5 = list(tupla1)\n",
    "print(lista5)\n",
    "type(lista5)"
   ]
  },
  {
   "attachments": {},
   "cell_type": "markdown",
   "metadata": {},
   "source": [
    "22) Desempaquetar solo los primeros 3 elementos de la tupla en 3 variables"
   ]
  },
  {
   "cell_type": "code",
   "execution_count": 73,
   "metadata": {},
   "outputs": [
    {
     "name": "stdout",
     "output_type": "stream",
     "text": [
      "Primer variable: 0 \n",
      "Segunda variable: 1 \n",
      "Tercera variable: 2\n"
     ]
    }
   ],
   "source": [
    "var1, var2, var3 = tupla1[0:3]\n",
    "print(\"Primer variable:\", var1,\"\\n\"\n",
    "      \"Segunda variable:\", var2, \"\\n\"\n",
    "      \"Tercera variable:\", var3)"
   ]
  },
  {
   "attachments": {},
   "cell_type": "markdown",
   "metadata": {},
   "source": [
    "23) Crear un diccionario utilizando la lista crada en el punto 1, asignandole la clave \"ciudad\". Agregar tambien otras claves, como puede ser \"Pais\" y \"Continente\"."
   ]
  },
  {
   "cell_type": "code",
   "execution_count": 77,
   "metadata": {},
   "outputs": [
    {
     "name": "stdout",
     "output_type": "stream",
     "text": [
      "{'Ciudades': ['Nueva Tork', 'París', 'Tokio', 'Londres', 'Roma', 'Pekin', 'Río de Janeiro', 'Sidney', 'Estambul', 'Ciudad de México'], 'Pais': ['USA', 'Francia', 'Japón', 'Reino Unido', 'Italia', 'China', 'Brasil', 'Australia', 'Turquia', 'México'], 'Continente': ['América', 'Europa', 'Asia', 'Europa', 'Europa', 'Asia', 'América', 'Oceanía', 'Europa', 'América']}\n"
     ]
    }
   ],
   "source": [
    "dic1 = {'Ciudades':lista4,\n",
    "        'Pais':['USA', 'Francia', 'Japón', 'Reino Unido', 'Italia', 'China', 'Brasil', 'Australia', 'Turquia', 'México'],\n",
    "        'Continente':['América', 'Europa', 'Asia', 'Europa', 'Europa', 'Asia', 'América', 'Oceanía', 'Europa', 'América']}\n",
    "\n",
    "print(dic1)"
   ]
  },
  {
   "attachments": {},
   "cell_type": "markdown",
   "metadata": {},
   "source": [
    "24) Imprimir las claves del diccionario"
   ]
  },
  {
   "cell_type": "code",
   "execution_count": 78,
   "metadata": {},
   "outputs": [
    {
     "name": "stdout",
     "output_type": "stream",
     "text": [
      "Las llaves del primer diccionario son: dict_keys(['Ciudades', 'Pais', 'Continente'])\n"
     ]
    }
   ],
   "source": [
    "print(\"Las llaves del primer diccionario son:\", dic1.keys())"
   ]
  },
  {
   "attachments": {},
   "cell_type": "markdown",
   "metadata": {},
   "source": [
    "25) Imprimir las ciudades a través de su clave"
   ]
  },
  {
   "cell_type": "code",
   "execution_count": 79,
   "metadata": {},
   "outputs": [
    {
     "name": "stdout",
     "output_type": "stream",
     "text": [
      "Las ciudades en el primer diccionario son: ['Nueva Tork', 'París', 'Tokio', 'Londres', 'Roma', 'Pekin', 'Río de Janeiro', 'Sidney', 'Estambul', 'Ciudad de México']\n"
     ]
    }
   ],
   "source": [
    "print(\"Las ciudades en el primer diccionario son:\", dic1['Ciudades'])"
   ]
  }
 ],
 "metadata": {
  "interpreter": {
   "hash": "c85384e4cb51c8b72350f3a8712cc8351fdc3955e32a27f9b60c6242ab125f01"
  },
  "kernelspec": {
   "display_name": "Python 3 (ipykernel)",
   "language": "python",
   "name": "python3"
  },
  "language_info": {
   "codemirror_mode": {
    "name": "ipython",
    "version": 3
   },
   "file_extension": ".py",
   "mimetype": "text/x-python",
   "name": "python",
   "nbconvert_exporter": "python",
   "pygments_lexer": "ipython3",
   "version": "3.9.7"
  }
 },
 "nbformat": 4,
 "nbformat_minor": 4
}
