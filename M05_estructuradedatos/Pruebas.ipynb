{
 "cells": [
  {
   "cell_type": "markdown",
   "metadata": {},
   "source": [
    "Pruebas para de listas y tuplas"
   ]
  },
  {
   "cell_type": "code",
   "execution_count": 2,
   "metadata": {},
   "outputs": [
    {
     "data": {
      "text/plain": [
       "1"
      ]
     },
     "execution_count": 2,
     "metadata": {},
     "output_type": "execute_result"
    }
   ],
   "source": [
    "lista1 = [1,2,3,4,5]\n",
    "1 in lista1\n",
    "lista1.count(1)"
   ]
  },
  {
   "cell_type": "code",
   "execution_count": 5,
   "metadata": {},
   "outputs": [
    {
     "data": {
      "text/plain": [
       "1"
      ]
     },
     "execution_count": 5,
     "metadata": {},
     "output_type": "execute_result"
    }
   ],
   "source": [
    "lista2 = [\"a\", 'b', 'c', 'd', 'e']\n",
    "'e' in lista2\n",
    "lista2.count('e')"
   ]
  },
  {
   "cell_type": "code",
   "execution_count": 8,
   "metadata": {},
   "outputs": [
    {
     "name": "stdout",
     "output_type": "stream",
     "text": [
      "['H', 'O', 'L', 'A', ' ', 'M', 'U', 'N', 'D', 'O']\n",
      "('H', 'O', 'L', 'A', ' ', 'M', 'U', 'N', 'D', 'O')\n"
     ]
    }
   ],
   "source": [
    "palabra = \"HOLA MUNDO\"\n",
    "\n",
    "lista3 = list(palabra)\n",
    "tupla1 = tuple(lista3)\n",
    "\n",
    "print(lista3)\n",
    "print(tupla1)"
   ]
  },
  {
   "cell_type": "markdown",
   "metadata": {},
   "source": [
    "Diccionarios"
   ]
  },
  {
   "cell_type": "code",
   "execution_count": 22,
   "metadata": {},
   "outputs": [
    {
     "name": "stdout",
     "output_type": "stream",
     "text": [
      "{'llave1': (1, 3, 5, 7, 9), 'llave2': 2}\n",
      "(1, 3, 5, 7, 9)\n",
      "<class 'dict'>\n"
     ]
    }
   ],
   "source": [
    "dic1 = dict(llave1 = (1,3,5,7,9), llave2 = 2)\n",
    "print(dic1)\n",
    "print(dic1[\"llave1\"])\n",
    "\n",
    "tupla2 = dic1[\"llave1\"]\n",
    "print(type(dic1))"
   ]
  }
 ],
 "metadata": {
  "kernelspec": {
   "display_name": "Python 3",
   "language": "python",
   "name": "python3"
  },
  "language_info": {
   "codemirror_mode": {
    "name": "ipython",
    "version": 3
   },
   "file_extension": ".py",
   "mimetype": "text/x-python",
   "name": "python",
   "nbconvert_exporter": "python",
   "pygments_lexer": "ipython3",
   "version": "3.12.1"
  }
 },
 "nbformat": 4,
 "nbformat_minor": 2
}
